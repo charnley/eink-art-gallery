{
 "cells": [
  {
   "cell_type": "code",
   "execution_count": null,
   "id": "b4e9e531-2975-4bf8-9373-d1cf59a64cb2",
   "metadata": {},
   "outputs": [],
   "source": [
    "%load_ext autoreload\n",
    "%autoreload 2"
   ]
  },
  {
   "cell_type": "code",
   "execution_count": null,
   "id": "bbd45385-f7a0-4570-b785-b62a0419682f",
   "metadata": {},
   "outputs": [],
   "source": [
    "from pathlib import Path"
   ]
  },
  {
   "cell_type": "code",
   "execution_count": null,
   "id": "7de7d21d-e4e0-4e63-9d99-de0000b08fc2",
   "metadata": {},
   "outputs": [],
   "source": [
    "from desktop_server.art_generator import load_sd3, prompt_sd3"
   ]
  },
  {
   "cell_type": "code",
   "execution_count": null,
   "id": "4809984c-e7de-4008-b4ca-a926a1c6158d",
   "metadata": {},
   "outputs": [],
   "source": [
    "from shared_image_utils.dithering import atkinson_dither"
   ]
  },
  {
   "cell_type": "code",
   "execution_count": null,
   "id": "0b1521b3-0589-4508-a1ff-b5505bd49aa8",
   "metadata": {},
   "outputs": [],
   "source": [
    "from shared_matplotlib_utils import OUTLINE"
   ]
  },
  {
   "cell_type": "code",
   "execution_count": null,
   "id": "55960b68-4595-42aa-80f7-bbb3bb228b77",
   "metadata": {},
   "outputs": [],
   "source": [
    "import string"
   ]
  },
  {
   "cell_type": "code",
   "execution_count": null,
   "id": "fbb2821c-015d-4b8d-8554-18ee37434930",
   "metadata": {},
   "outputs": [],
   "source": [
    "from matplotlib import pyplot as plt\n",
    "from matplotlib.backends.backend_agg import FigureCanvasAgg as FigureCanvas\n",
    "import matplotlib\n",
    "import numpy as np"
   ]
  },
  {
   "cell_type": "code",
   "execution_count": null,
   "id": "4389bf9e-ea2b-40b3-a982-b224a3834592",
   "metadata": {},
   "outputs": [],
   "source": [
    "import ipywidgets as widgets\n",
    "from IPython.display import display, clear_output\n",
    "import tqdm"
   ]
  },
  {
   "cell_type": "markdown",
   "id": "c494187c-fbd0-4660-9b1b-b0237896d245",
   "metadata": {
    "jp-MarkdownHeadingCollapsed": true
   },
   "source": [
    "# Get model"
   ]
  },
  {
   "cell_type": "code",
   "execution_count": null,
   "id": "91d4757c-fce1-414b-8f4d-61bd0255d2ed",
   "metadata": {},
   "outputs": [],
   "source": [
    "model = load_sd3()"
   ]
  },
  {
   "cell_type": "code",
   "execution_count": null,
   "id": "a5664221-4900-4b67-8a8d-984c74f04d42",
   "metadata": {},
   "outputs": [],
   "source": [
    "# Generate a base AI photo"
   ]
  },
  {
   "cell_type": "code",
   "execution_count": null,
   "id": "198686ad-9325-4ca8-9624-362ae2e58424",
   "metadata": {},
   "outputs": [],
   "source": [
    "def show_images(images, title=\"\"):\n",
    "\n",
    "    assert len(images) == 4\n",
    "\n",
    "    fig, axs = plt.subplots(2, 2, figsize=(8,8), constrained_layout=True)\n",
    "    FigureCanvas(fig)  # Attach canvas (avoids inline rendering)\n",
    "\n",
    "    fig.suptitle(f\"{title}\", fontsize=16, )\n",
    "    \n",
    "    for ax, letter in zip(axs.flat, string.ascii_lowercase):\n",
    "        ax.axis(\"off\")\n",
    "    \n",
    "        text = f\"{letter})\"\n",
    "        ax.text(\n",
    "            0.05,\n",
    "            0.95,\n",
    "            text,\n",
    "            verticalalignment=\"center\",\n",
    "            horizontalalignment=\"center\",\n",
    "            transform = ax.transAxes,\n",
    "            fontsize=15,\n",
    "            path_effects=[OUTLINE],\n",
    "            \n",
    "        )\n",
    "    \n",
    "    axs[0, 0].imshow(np.asarray(images[0]), )\n",
    "    axs[0, 1].imshow(np.asarray(images[1]), )\n",
    "    axs[1, 0].imshow(np.asarray(images[2]), )\n",
    "    axs[1, 1].imshow(np.asarray(images[3]), )\n",
    "\n",
    "    plt.close(fig)\n",
    "\n",
    "    return fig"
   ]
  },
  {
   "cell_type": "code",
   "execution_count": null,
   "id": "01a425e5-b112-4f1a-b546-7542d92c8874",
   "metadata": {},
   "outputs": [],
   "source": [
    "ASSETS = Path(\"../../../assets/\")"
   ]
  },
  {
   "cell_type": "markdown",
   "id": "c4f29eb5-9293-421d-b69c-fdf8e909ad10",
   "metadata": {},
   "source": [
    "# Stable diffusion - Colours"
   ]
  },
  {
   "cell_type": "code",
   "execution_count": null,
   "id": "df4029a9-5dca-4867-9ab6-53c3d43257ad",
   "metadata": {},
   "outputs": [],
   "source": [
    "width = 256\n",
    "height = 256"
   ]
  },
  {
   "cell_type": "code",
   "execution_count": null,
   "id": "0f165568-cafb-4154-bb64-1aabd6eb2abb",
   "metadata": {},
   "outputs": [],
   "source": [
    "filename_colours = ASSETS / \"prompts_sd3_bw.txt\"\n",
    "assert filename_colours.is_file()"
   ]
  },
  {
   "cell_type": "code",
   "execution_count": null,
   "id": "b3f4bc35-ec40-437f-8f37-9b9265fc2d1e",
   "metadata": {},
   "outputs": [],
   "source": [
    "with open(filename_colours, 'r') as f:\n",
    "    lines = f.readlines()\n",
    "    lines = [x.strip() for x in lines]"
   ]
  },
  {
   "cell_type": "code",
   "execution_count": null,
   "id": "9d198b2d-c9c0-4a8a-ad89-eb235820b671",
   "metadata": {},
   "outputs": [],
   "source": [
    "figures = []\n",
    "for prompt_text in tqdm.tqdm(lines):\n",
    "    images = [prompt_sd3(model, prompt_text, width=width, height=height) for _ in range(4)]\n",
    "    fig = show_images(images, title=prompt_text)\n",
    "    figures.append(fig)"
   ]
  },
  {
   "cell_type": "code",
   "execution_count": null,
   "id": "4a43ee45-bff1-4318-b87e-26cd13386b3d",
   "metadata": {},
   "outputs": [],
   "source": [
    "len(figures)"
   ]
  },
  {
   "cell_type": "code",
   "execution_count": null,
   "id": "52918bb4-b65a-4e84-ae7f-ec90681e8b48",
   "metadata": {},
   "outputs": [],
   "source": [
    "output = widgets.Output()\n",
    "index = widgets.IntText(value=0, layout=widgets.Layout(width='60px'))\n",
    "\n",
    "prev_button = widgets.Button(description=\"Previous\")\n",
    "next_button = widgets.Button(description=\"Next\")\n",
    "\n",
    "def show_plot(i):\n",
    "    with output:\n",
    "        clear_output(wait=True)\n",
    "        display(figures[i])\n",
    "\n",
    "def on_next_clicked(b):\n",
    "    if index.value < len(figures) - 1:\n",
    "        index.value += 1\n",
    "        show_plot(index.value)\n",
    "\n",
    "def on_prev_clicked(b):\n",
    "    if index.value > 0:\n",
    "        index.value -= 1\n",
    "        show_plot(index.value)\n",
    "\n",
    "prev_button.on_click(on_prev_clicked)\n",
    "next_button.on_click(on_next_clicked)"
   ]
  },
  {
   "cell_type": "code",
   "execution_count": null,
   "id": "7a1a6c5e-4dc6-47b0-b8cd-166f036bf139",
   "metadata": {},
   "outputs": [],
   "source": [
    "controls = widgets.HBox([prev_button, next_button, widgets.Label(\"Index:\"), index])\n",
    "display(controls)\n",
    "display(output)\n",
    "show_plot(index.value)"
   ]
  },
  {
   "cell_type": "code",
   "execution_count": null,
   "id": "0cd06b80-58cb-4d80-81cb-3d9035a8a5c4",
   "metadata": {},
   "outputs": [],
   "source": []
  },
  {
   "cell_type": "code",
   "execution_count": null,
   "id": "a20a3629-1bb4-4eda-b0bf-25b9fe2230cc",
   "metadata": {},
   "outputs": [],
   "source": []
  }
 ],
 "metadata": {
  "language_info": {
   "name": "python"
  }
 },
 "nbformat": 4,
 "nbformat_minor": 5
}
