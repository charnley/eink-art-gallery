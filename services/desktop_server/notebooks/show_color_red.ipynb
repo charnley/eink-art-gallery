{
 "cells": [
  {
   "cell_type": "code",
   "execution_count": null,
   "id": "494c6346-836f-4d7f-ad41-f435a1f21dec",
   "metadata": {},
   "outputs": [],
   "source": [
    "%load_ext autoreload\n",
    "%autoreload 2"
   ]
  },
  {
   "cell_type": "code",
   "execution_count": null,
   "id": "6da80047-a1bd-461e-87d4-2dffdf9c5187",
   "metadata": {},
   "outputs": [],
   "source": [
    "from PIL import Image\n",
    "import numpy as np"
   ]
  },
  {
   "cell_type": "code",
   "execution_count": null,
   "id": "f4952148-7c0f-4f1c-a33d-be4396021b2d",
   "metadata": {},
   "outputs": [],
   "source": [
    "import shared_matplotlib_utils\n",
    "import shared_image_utils as image_utils\n",
    "import shared_image_utils.colors as color_utils\n",
    "import shared_image_utils.tasks as color_tasks"
   ]
  },
  {
   "cell_type": "code",
   "execution_count": null,
   "id": "4aecd34b-9b03-41f3-bfb1-bc30721ffe99",
   "metadata": {},
   "outputs": [],
   "source": [
    "from desktop_server.art_generator import load_sd3, prompt_sd3"
   ]
  },
  {
   "cell_type": "code",
   "execution_count": null,
   "id": "bbe0a4af-af57-49ae-bf6a-6bcf4ef89e2b",
   "metadata": {},
   "outputs": [],
   "source": [
    "model = load_sd3()"
   ]
  },
  {
   "cell_type": "code",
   "execution_count": null,
   "id": "0cfae439-b418-49a6-8618-194a610821c9",
   "metadata": {},
   "outputs": [],
   "source": []
  },
  {
   "cell_type": "code",
   "execution_count": null,
   "id": "338c5ad7-19dc-4d40-9851-482483aaa30f",
   "metadata": {},
   "outputs": [],
   "source": [
    "prompt = \"colorful painting by Zhang+ Daqian++, black white red,  Traditional, vibrant, detailed, fluid, expressive, landscape, dynamic, textured, versatile, intricate, modern interpretation, natural scenes, elegant, spontaneous, rich, classical techniques, innovative\"\n",
    "prompt = \"18th-century oil painting by Michael Wutky, landscape, Chiaroscuro+, fumaroles and rising steam, warm earthy tones, classical Italian scenery, figures in foreground for scale, dramatic lighting, geological realism, Romantic Sublime, soft atmospheric haze, detailed natural textures, scientific expedition mood, Neoclassical composition, warm afternoon light\"\n",
    "prompt = \"oil painting, color painting, Northern++ lights+, winter, vivid color, moody, scenic, breathtaking, surreal\"\n",
    "prompt = \"animal illustration, black white red, Micrographia-inspired, scientific illustration, 16th-century natural history style, museum drawing, realistic and realistic, hyper detailed, fine lines, white background, bw, Enlightenment-era scientific study\"\n",
    "prompt = \"by Alex Andreev++, warm red subduded colors, Surreal, Futuristic, Sci-fi, Dreamlike, Digital, Imaginative, Atmospheric, Abstract, Dystopian, Ethereal, Conceptual, Vivid, Fantasy, Otherworldly, Innovative\"\n",
    "prompt = \"painting, cat staring at the sea\"\n",
    "prompt = \"painting, poppies, red flowers, wildflowers, field, meadow, sunset, sunrise, golden hour, blue sky, clouds, sunlight, vibrant, nature, landscape, outdoors, summer, spring, scenic, horizon, green grass\"\n",
    "prompt = \"dramatic alpine landscape, lots of light, swiss mountains, towering rocky peaks, rushing waterfall, stormy clouds, sunlight breaking through, romanticism, sublime nature, detailed realism, dark forest foreground, misty atmosphere, dramatic contrasts, powerful scenery, 19th century romantic painting style\"\n",
    "prompt = \"vibrant solitary plant-like, stylized round foliage, heavy impasto texture, palette knife oil painting style, bright whimsical colors, abstract realism, minimalist dreamscape background, expressive sculptural paint strokes, bold contrast, serene and surreal atmosphere, Rachel Bingaman inspired\"\n",
    "prompt = \"whimsical countryside landscape, sunset and warm colors, rolling green hills, winding path, stylized trees, small cottages with warm light, smooth color gradients, glowing sky with dreamy clouds, surreal yet serene atmosphere, clean bold shapes, storybook illustration style, Paul Corfield inspired\"\n",
    "prompt = \"warm colors, whimsical countryside landscape, rolling patchwork fields, stylized trees, birds in flight, cozy cottages, decorative folk-art patterns, seasonal colors, charming naïve style, bright and cheerful palette, storybook illustration atmosphere, Jo Grundy inspired\"\n",
    "prompt = \"forest painting by Graham Gercken, vivid red colors\""
   ]
  },
  {
   "cell_type": "code",
   "execution_count": null,
   "id": "3d65663e-ec51-4420-8378-31e739b0e203",
   "metadata": {},
   "outputs": [],
   "source": [
    "width = 960\n",
    "height = 680\n",
    "#width = 512\n",
    "#height = 512"
   ]
  },
  {
   "cell_type": "code",
   "execution_count": null,
   "id": "45bdde42-633a-4600-8d86-f1db1364f7f6",
   "metadata": {},
   "outputs": [],
   "source": [
    "image1 = prompt_sd3(model, prompt, width=width, height=height)\n",
    "image1"
   ]
  },
  {
   "cell_type": "markdown",
   "id": "8cdd6a0a-5c72-4965-86e7-7fe76a26c94d",
   "metadata": {
    "jp-MarkdownHeadingCollapsed": true
   },
   "source": [
    "# Enhance red"
   ]
  },
  {
   "cell_type": "code",
   "execution_count": null,
   "id": "33f63e7d-635d-4c2c-b340-381db3f9a8bd",
   "metadata": {},
   "outputs": [],
   "source": [
    "image2_gr, image2_ggb = color_utils.steal_red_channel(image1)"
   ]
  },
  {
   "cell_type": "code",
   "execution_count": null,
   "id": "dc89f0bf-cc6c-48a3-a023-5e9eacc1658d",
   "metadata": {},
   "outputs": [],
   "source": [
    "image2_ggb"
   ]
  },
  {
   "cell_type": "code",
   "execution_count": null,
   "id": "2dfd5248-7f14-40f8-9282-08c6b6fd4012",
   "metadata": {},
   "outputs": [],
   "source": [
    "image2_gr"
   ]
  },
  {
   "cell_type": "code",
   "execution_count": null,
   "id": "43115e74-fdc5-4190-aab2-2a20919ba573",
   "metadata": {},
   "outputs": [],
   "source": [
    "image1_c = color_tasks.color_correct_red(image1, [])\n",
    "image1_c"
   ]
  },
  {
   "cell_type": "code",
   "execution_count": null,
   "id": "eaecf3f6-7ccb-45c7-861e-038340ffc945",
   "metadata": {},
   "outputs": [],
   "source": [
    "image2_r, image2_gb = color_utils.steal_red_channel(image1_c)"
   ]
  },
  {
   "cell_type": "markdown",
   "id": "55863822-db55-409c-8dab-d01b987b102e",
   "metadata": {},
   "source": [
    "# Palette Dithering"
   ]
  },
  {
   "cell_type": "code",
   "execution_count": null,
   "id": "a513858a-ee22-4c2d-bee8-22e90351ec15",
   "metadata": {},
   "outputs": [],
   "source": [
    "bwr_palette = np.array([[255,255,255],[0,0,0],[255,0,0]])"
   ]
  },
  {
   "cell_type": "code",
   "execution_count": null,
   "id": "aef9345f-527f-4190-9968-34f105862ae0",
   "metadata": {},
   "outputs": [],
   "source": [
    "image3 = image_utils.dithering.atkinson_dither_rgb(image1, bwr_palette)\n",
    "image3"
   ]
  },
  {
   "cell_type": "code",
   "execution_count": null,
   "id": "6f6c29c5-619c-44a1-8878-7b8392778aa3",
   "metadata": {},
   "outputs": [],
   "source": []
  }
 ],
 "metadata": {
  "language_info": {
   "name": "python"
  }
 },
 "nbformat": 4,
 "nbformat_minor": 5
}
