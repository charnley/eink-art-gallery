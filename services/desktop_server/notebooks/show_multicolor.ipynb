{
 "cells": [
  {
   "cell_type": "code",
   "execution_count": null,
   "id": "494c6346-836f-4d7f-ad41-f435a1f21dec",
   "metadata": {},
   "outputs": [],
   "source": [
    "%load_ext autoreload\n",
    "%autoreload 2"
   ]
  },
  {
   "cell_type": "code",
   "execution_count": null,
   "id": "6da80047-a1bd-461e-87d4-2dffdf9c5187",
   "metadata": {},
   "outputs": [],
   "source": [
    "from PIL import Image"
   ]
  },
  {
   "cell_type": "code",
   "execution_count": null,
   "id": "f4952148-7c0f-4f1c-a33d-be4396021b2d",
   "metadata": {},
   "outputs": [],
   "source": [
    "import shared_matplotlib_utils\n",
    "import shared_image_utils as image_utils\n",
    "import shared_image_utils.colors as color_utils"
   ]
  },
  {
   "cell_type": "code",
   "execution_count": null,
   "id": "4aecd34b-9b03-41f3-bfb1-bc30721ffe99",
   "metadata": {},
   "outputs": [],
   "source": [
    "from desktop_server.art_generator import load_sd3, prompt_sd3"
   ]
  },
  {
   "cell_type": "code",
   "execution_count": null,
   "id": "bbe0a4af-af57-49ae-bf6a-6bcf4ef89e2b",
   "metadata": {},
   "outputs": [],
   "source": [
    "model = load_sd3()"
   ]
  },
  {
   "cell_type": "code",
   "execution_count": null,
   "id": "ce796be8-22da-42c5-8d68-fc6fbc593c40",
   "metadata": {},
   "outputs": [],
   "source": [
    "prompt = \"colorfull painting by Zhang+ Daqian++, black,  Traditional, vibrant, detailed, fluid, expressive, landscape, dynamic, textured, versatile, intricate, modern interpretation, natural scenes, elegant, spontaneous, rich, classical techniques, innovative\"\n",
    "width = 256\n",
    "height = 256\n",
    "\n",
    "width = 512\n",
    "height = 512"
   ]
  },
  {
   "cell_type": "code",
   "execution_count": null,
   "id": "45bdde42-633a-4600-8d86-f1db1364f7f6",
   "metadata": {},
   "outputs": [],
   "source": [
    "image1 = prompt_sd3(model, prompt, width=width, height=height)\n",
    "image1"
   ]
  },
  {
   "cell_type": "code",
   "execution_count": null,
   "id": "43115e74-fdc5-4190-aab2-2a20919ba573",
   "metadata": {},
   "outputs": [],
   "source": [
    "image1_c = color_utils.color_correct(image1, [])\n",
    "image1_c"
   ]
  },
  {
   "cell_type": "code",
   "execution_count": null,
   "id": "f2d0bb68-691c-4cbe-a2cb-dcf48852cab3",
   "metadata": {},
   "outputs": [],
   "source": [
    "image1_r, image1_gb = color_utils.image_split_red_channel(image1_c)"
   ]
  },
  {
   "cell_type": "code",
   "execution_count": null,
   "id": "dbf94318-869d-4a91-8ae7-124c5bc577e9",
   "metadata": {},
   "outputs": [],
   "source": [
    "image1_r"
   ]
  },
  {
   "cell_type": "code",
   "execution_count": null,
   "id": "94e087c6-abb8-4a2d-a827-9d6b9ca24b19",
   "metadata": {},
   "outputs": [],
   "source": [
    "image1_gb"
   ]
  },
  {
   "cell_type": "code",
   "execution_count": null,
   "id": "2b6b856f-e6f6-48b5-bc55-408b4f4e8a87",
   "metadata": {},
   "outputs": [],
   "source": []
  },
  {
   "cell_type": "code",
   "execution_count": null,
   "id": "449ec7a5-6b21-4f8c-a805-6fe47e00c778",
   "metadata": {},
   "outputs": [],
   "source": []
  },
  {
   "cell_type": "code",
   "execution_count": null,
   "id": "f765aff5-7aed-464c-84cb-d85c7a992c6c",
   "metadata": {},
   "outputs": [],
   "source": []
  }
 ],
 "metadata": {
  "language_info": {
   "name": "python"
  }
 },
 "nbformat": 4,
 "nbformat_minor": 5
}
