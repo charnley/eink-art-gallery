{
 "cells": [
  {
   "cell_type": "code",
   "execution_count": null,
   "id": "494c6346-836f-4d7f-ad41-f435a1f21dec",
   "metadata": {},
   "outputs": [],
   "source": [
    "%load_ext autoreload\n",
    "%autoreload 2"
   ]
  },
  {
   "cell_type": "code",
   "execution_count": null,
   "id": "6da80047-a1bd-461e-87d4-2dffdf9c5187",
   "metadata": {},
   "outputs": [],
   "source": [
    "from PIL import Image"
   ]
  },
  {
   "cell_type": "code",
   "execution_count": null,
   "id": "f4952148-7c0f-4f1c-a33d-be4396021b2d",
   "metadata": {},
   "outputs": [],
   "source": [
    "import shared_matplotlib_utils\n",
    "import shared_image_utils as image_utils\n",
    "import shared_image_utils.colors as color_utils\n",
    "import shared_image_utils.tasks as color_tasks"
   ]
  },
  {
   "cell_type": "code",
   "execution_count": null,
   "id": "4aecd34b-9b03-41f3-bfb1-bc30721ffe99",
   "metadata": {},
   "outputs": [],
   "source": [
    "from desktop_server.art_generator import load_sd3, prompt_sd3"
   ]
  },
  {
   "cell_type": "code",
   "execution_count": null,
   "id": "bbe0a4af-af57-49ae-bf6a-6bcf4ef89e2b",
   "metadata": {},
   "outputs": [],
   "source": [
    "model = load_sd3()"
   ]
  },
  {
   "cell_type": "code",
   "execution_count": null,
   "id": "0cfae439-b418-49a6-8618-194a610821c9",
   "metadata": {},
   "outputs": [],
   "source": []
  },
  {
   "cell_type": "code",
   "execution_count": null,
   "id": "50932740-c968-4cbf-b807-b15e97cfbc00",
   "metadata": {},
   "outputs": [],
   "source": [
    "width = 1600\n",
    "height = 1200"
   ]
  },
  {
   "cell_type": "code",
   "execution_count": null,
   "id": "e08ac630-b59f-4bb7-9ff1-164262054b5c",
   "metadata": {},
   "outputs": [],
   "source": [
    "prompt = \"colorful painting by Zhang+ Daqian++, colourful, Traditional, vibrant, detailed, fluid, expressive, landscape, dynamic, textured, versatile, intricate, modern interpretation, natural scenes, elegant, spontaneous, rich, classical techniques, innovative\""
   ]
  },
  {
   "cell_type": "code",
   "execution_count": null,
   "id": "45bdde42-633a-4600-8d86-f1db1364f7f6",
   "metadata": {},
   "outputs": [],
   "source": [
    "image1 = prompt_sd3(model, prompt, width=width, height=height)\n",
    "image1"
   ]
  },
  {
   "cell_type": "code",
   "execution_count": null,
   "id": "57170609-6c60-4830-83e1-4ca279f69c50",
   "metadata": {},
   "outputs": [],
   "source": []
  },
  {
   "cell_type": "code",
   "execution_count": null,
   "id": "6b3fc0aa-f949-40c1-905a-b85546bcff72",
   "metadata": {},
   "outputs": [],
   "source": []
  },
  {
   "cell_type": "code",
   "execution_count": null,
   "id": "6f6c29c5-619c-44a1-8878-7b8392778aa3",
   "metadata": {},
   "outputs": [],
   "source": []
  },
  {
   "cell_type": "code",
   "execution_count": null,
   "id": "6bbe20a9-fb26-4dd9-a9fc-27eef20398f3",
   "metadata": {},
   "outputs": [],
   "source": []
  }
 ],
 "metadata": {
  "language_info": {
   "name": "python"
  }
 },
 "nbformat": 4,
 "nbformat_minor": 5
}
