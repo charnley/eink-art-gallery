{
 "cells": [
  {
   "cell_type": "code",
   "execution_count": null,
   "id": "494c6346-836f-4d7f-ad41-f435a1f21dec",
   "metadata": {},
   "outputs": [],
   "source": [
    "%load_ext autoreload\n",
    "%autoreload 2"
   ]
  },
  {
   "cell_type": "code",
   "execution_count": null,
   "id": "f4952148-7c0f-4f1c-a33d-be4396021b2d",
   "metadata": {},
   "outputs": [],
   "source": [
    "import shared_matplotlib_utils"
   ]
  },
  {
   "cell_type": "code",
   "execution_count": null,
   "id": "bd517d2c-2ac8-4cd4-a17a-5c08b382c5e9",
   "metadata": {},
   "outputs": [],
   "source": [
    "image = shared_matplotlib_utils.get_basic_text(\"Hello World!\", with_date=True)"
   ]
  },
  {
   "cell_type": "code",
   "execution_count": null,
   "id": "7f94122e-d441-4a0e-827f-e52277cf5808",
   "metadata": {},
   "outputs": [],
   "source": [
    "image.size"
   ]
  },
  {
   "cell_type": "code",
   "execution_count": null,
   "id": "b2834943-0d02-4c29-aa93-ad76c5ee21b4",
   "metadata": {},
   "outputs": [],
   "source": []
  },
  {
   "cell_type": "code",
   "execution_count": null,
   "id": "cc469010-16f2-4582-bcdb-9085fd390472",
   "metadata": {},
   "outputs": [],
   "source": []
  },
  {
   "cell_type": "code",
   "execution_count": null,
   "id": "2d1989f7-d694-4dd4-b9b7-6d3028ef6b9a",
   "metadata": {},
   "outputs": [],
   "source": []
  }
 ],
 "metadata": {
  "language_info": {
   "name": "python"
  }
 },
 "nbformat": 4,
 "nbformat_minor": 5
}
