{
 "cells": [
  {
   "cell_type": "code",
   "execution_count": null,
   "id": "494c6346-836f-4d7f-ad41-f435a1f21dec",
   "metadata": {},
   "outputs": [],
   "source": [
    "%load_ext autoreload\n",
    "%autoreload 2"
   ]
  },
  {
   "cell_type": "code",
   "execution_count": null,
   "id": "b2834943-0d02-4c29-aa93-ad76c5ee21b4",
   "metadata": {},
   "outputs": [],
   "source": [
    "import textwrap"
   ]
  },
  {
   "cell_type": "code",
   "execution_count": null,
   "id": "f4952148-7c0f-4f1c-a33d-be4396021b2d",
   "metadata": {},
   "outputs": [],
   "source": [
    "import shared_matplotlib_utils"
   ]
  },
  {
   "cell_type": "code",
   "execution_count": null,
   "id": "bd517d2c-2ac8-4cd4-a17a-5c08b382c5e9",
   "metadata": {},
   "outputs": [],
   "source": [
    "image = shared_matplotlib_utils.get_basic_text(\"Hello World!\", with_date=True)"
   ]
  },
  {
   "cell_type": "code",
   "execution_count": null,
   "id": "7f94122e-d441-4a0e-827f-e52277cf5808",
   "metadata": {},
   "outputs": [],
   "source": [
    "image.size"
   ]
  },
  {
   "cell_type": "markdown",
   "id": "a6b41522-4f81-4376-bf36-06076693e990",
   "metadata": {},
   "source": [
    "# 404"
   ]
  },
  {
   "cell_type": "markdown",
   "id": "66d5398e-c86b-4d22-b5da-5ab1dd37ddc0",
   "metadata": {},
   "source": [
    "## QR Code example"
   ]
  },
  {
   "cell_type": "code",
   "execution_count": null,
   "id": "2d1989f7-d694-4dd4-b9b7-6d3028ef6b9a",
   "metadata": {},
   "outputs": [],
   "source": [
    "image = shared_matplotlib_utils.get_basic_wifi(\"MyInternet\", \"PleaseDontStealMyPassword\")"
   ]
  },
  {
   "cell_type": "code",
   "execution_count": null,
   "id": "28e00000-2251-4e76-b7e2-72daee7ac662",
   "metadata": {},
   "outputs": [],
   "source": [
    "image"
   ]
  },
  {
   "cell_type": "code",
   "execution_count": null,
   "id": "9810096a-2ccd-4f24-89e1-f5c4473a900c",
   "metadata": {},
   "outputs": [],
   "source": [
    "import shared_image_utils.tasks as color_tasks\n",
    "import shared_image_utils.colors as color_utils"
   ]
  },
  {
   "cell_type": "code",
   "execution_count": null,
   "id": "4aecd34b-9b03-41f3-bfb1-bc30721ffe99",
   "metadata": {},
   "outputs": [],
   "source": [
    "image_red, image_black = color_utils.steal_red_channel(image)"
   ]
  },
  {
   "cell_type": "code",
   "execution_count": null,
   "id": "3b98aec7-7def-46ea-843d-fcd0b0d9e6ea",
   "metadata": {},
   "outputs": [],
   "source": [
    "image_red"
   ]
  },
  {
   "cell_type": "code",
   "execution_count": null,
   "id": "df338ea8-ec97-48be-aca7-6c5b21c07ffe",
   "metadata": {},
   "outputs": [],
   "source": [
    "image_black"
   ]
  },
  {
   "cell_type": "code",
   "execution_count": null,
   "id": "5ddfb7b4-8a1a-48c8-837e-841d1271792e",
   "metadata": {},
   "outputs": [],
   "source": []
  }
 ],
 "metadata": {
  "language_info": {
   "name": "python"
  }
 },
 "nbformat": 4,
 "nbformat_minor": 5
}
