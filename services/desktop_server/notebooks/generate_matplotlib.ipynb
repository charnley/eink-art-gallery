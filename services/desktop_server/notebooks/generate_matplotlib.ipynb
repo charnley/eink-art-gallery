{
 "cells": [
  {
   "cell_type": "code",
   "execution_count": null,
   "id": "494c6346-836f-4d7f-ad41-f435a1f21dec",
   "metadata": {},
   "outputs": [],
   "source": [
    "%load_ext autoreload\n",
    "%autoreload 2"
   ]
  },
  {
   "cell_type": "code",
   "execution_count": null,
   "id": "b2834943-0d02-4c29-aa93-ad76c5ee21b4",
   "metadata": {},
   "outputs": [],
   "source": [
    "import textwrap"
   ]
  },
  {
   "cell_type": "code",
   "execution_count": null,
   "id": "f4952148-7c0f-4f1c-a33d-be4396021b2d",
   "metadata": {},
   "outputs": [],
   "source": [
    "import shared_matplotlib_utils"
   ]
  },
  {
   "cell_type": "code",
   "execution_count": null,
   "id": "bd517d2c-2ac8-4cd4-a17a-5c08b382c5e9",
   "metadata": {},
   "outputs": [],
   "source": [
    "image = shared_matplotlib_utils.get_basic_text(\"Hello World!\", with_date=True)"
   ]
  },
  {
   "cell_type": "code",
   "execution_count": null,
   "id": "7f94122e-d441-4a0e-827f-e52277cf5808",
   "metadata": {},
   "outputs": [],
   "source": [
    "image.size"
   ]
  },
  {
   "cell_type": "markdown",
   "id": "a6b41522-4f81-4376-bf36-06076693e990",
   "metadata": {},
   "source": [
    "# 404"
   ]
  },
  {
   "cell_type": "code",
   "execution_count": null,
   "id": "a9e35566-ff59-4fad-995e-cefc2f5f8f00",
   "metadata": {},
   "outputs": [],
   "source": [
    "shared_matplotlib_utils.get_basic_404(\"No more images\")"
   ]
  },
  {
   "cell_type": "markdown",
   "id": "66d5398e-c86b-4d22-b5da-5ab1dd37ddc0",
   "metadata": {},
   "source": [
    "## QR Code example"
   ]
  },
  {
   "cell_type": "code",
   "execution_count": null,
   "id": "2d1989f7-d694-4dd4-b9b7-6d3028ef6b9a",
   "metadata": {},
   "outputs": [],
   "source": [
    "shared_matplotlib_utils.get_basic_wifi(\"MyInternet\", \"PleaseDontStealMyPassword\", width=300, height=300)"
   ]
  },
  {
   "cell_type": "code",
   "execution_count": null,
   "id": "28e00000-2251-4e76-b7e2-72daee7ac662",
   "metadata": {},
   "outputs": [],
   "source": [
    "shared_matplotlib_utils.get_basic_wifi(\"MyInternet\", \"PleaseDontStealMyPassword\", width=1000, height=1000)"
   ]
  },
  {
   "cell_type": "markdown",
   "id": "4e7ae64e-49f1-4440-8e5f-120a796d3f4d",
   "metadata": {},
   "source": [
    "# Text example"
   ]
  },
  {
   "cell_type": "code",
   "execution_count": null,
   "id": "b799380f-ac4f-467e-a3e1-d499f8a849ed",
   "metadata": {},
   "outputs": [],
   "source": [
    "shared_matplotlib_utils.get_basic_text(\"Ready\", width=400, height=400)"
   ]
  },
  {
   "cell_type": "code",
   "execution_count": null,
   "id": "5ddfb7b4-8a1a-48c8-837e-841d1271792e",
   "metadata": {},
   "outputs": [],
   "source": [
    "shared_matplotlib_utils.get_basic_text(\"Ready\", width=1000, height=1000)"
   ]
  },
  {
   "cell_type": "code",
   "execution_count": null,
   "id": "7d5ef63a-66ee-4aff-9c70-7df31e853d65",
   "metadata": {},
   "outputs": [],
   "source": [
    "sentence = \"I am going to the store to get milk, you can start cutting vegetables first\""
   ]
  },
  {
   "cell_type": "code",
   "execution_count": null,
   "id": "d59d6924-a8e2-4971-a489-954020d90c1e",
   "metadata": {},
   "outputs": [],
   "source": [
    "shared_matplotlib_utils.get_basic_text(sentence, width=400, height=400)"
   ]
  },
  {
   "cell_type": "code",
   "execution_count": null,
   "id": "a5120518-1171-488f-aa6a-ab04a0a06872",
   "metadata": {},
   "outputs": [],
   "source": [
    "shared_matplotlib_utils.get_basic_text(sentence, width=1000, height=1000)"
   ]
  },
  {
   "cell_type": "code",
   "execution_count": null,
   "id": "97b786a2-0974-4669-8341-6f69b7d55b2a",
   "metadata": {},
   "outputs": [],
   "source": []
  }
 ],
 "metadata": {
  "language_info": {
   "name": "python"
  }
 },
 "nbformat": 4,
 "nbformat_minor": 5
}
