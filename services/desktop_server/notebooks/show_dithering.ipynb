{
 "cells": [
  {
   "cell_type": "code",
   "execution_count": null,
   "id": "b4e9e531-2975-4bf8-9373-d1cf59a64cb2",
   "metadata": {},
   "outputs": [],
   "source": [
    "%load_ext autoreload\n",
    "%autoreload 2"
   ]
  },
  {
   "cell_type": "code",
   "execution_count": null,
   "id": "7de7d21d-e4e0-4e63-9d99-de0000b08fc2",
   "metadata": {},
   "outputs": [],
   "source": [
    "from desktop_server.art_generator import load_sd3, prompt_sd3"
   ]
  },
  {
   "cell_type": "code",
   "execution_count": null,
   "id": "4809984c-e7de-4008-b4ca-a926a1c6158d",
   "metadata": {},
   "outputs": [],
   "source": [
    "from shared_image_utils.dithering import atkinson_dither"
   ]
  },
  {
   "cell_type": "code",
   "execution_count": null,
   "id": "0b1521b3-0589-4508-a1ff-b5505bd49aa8",
   "metadata": {},
   "outputs": [],
   "source": [
    "from shared_matplotlib_utils import OUTLINE"
   ]
  },
  {
   "cell_type": "code",
   "execution_count": null,
   "id": "55960b68-4595-42aa-80f7-bbb3bb228b77",
   "metadata": {},
   "outputs": [],
   "source": [
    "import string"
   ]
  },
  {
   "cell_type": "code",
   "execution_count": null,
   "id": "fbb2821c-015d-4b8d-8554-18ee37434930",
   "metadata": {},
   "outputs": [],
   "source": [
    "from matplotlib import pyplot as plt\n",
    "import matplotlib\n",
    "import numpy as np"
   ]
  },
  {
   "cell_type": "code",
   "execution_count": null,
   "id": "ef58849e-a205-45c0-9e08-feaa07e8dc84",
   "metadata": {},
   "outputs": [],
   "source": [
    "# Get model"
   ]
  },
  {
   "cell_type": "code",
   "execution_count": null,
   "id": "91d4757c-fce1-414b-8f4d-61bd0255d2ed",
   "metadata": {},
   "outputs": [],
   "source": [
    "model = load_sd3()"
   ]
  },
  {
   "cell_type": "code",
   "execution_count": null,
   "id": "a5664221-4900-4b67-8a8d-984c74f04d42",
   "metadata": {},
   "outputs": [],
   "source": [
    "# Generate a base AI photo"
   ]
  },
  {
   "cell_type": "code",
   "execution_count": null,
   "id": "933d0166-09ac-4bba-b5e6-9440557175e8",
   "metadata": {},
   "outputs": [],
   "source": [
    "image1 = prompt_sd3(model, \"painting, sketch, dense forest, swiss alps\", width=256, height=256)\n",
    "image1"
   ]
  },
  {
   "cell_type": "code",
   "execution_count": null,
   "id": "9f02d70d-ea23-400e-b463-087de79a063a",
   "metadata": {},
   "outputs": [],
   "source": [
    "image1.convert(\"L\").save(\"dithering1.png\")\n",
    "image1.convert(\"L\")"
   ]
  },
  {
   "cell_type": "code",
   "execution_count": null,
   "id": "754a5afb-bda3-4242-80ed-0a067b081e75",
   "metadata": {},
   "outputs": [],
   "source": [
    "image2 = atkinson_dither(image1)\n",
    "image2.save(\"dithering2.png\")\n",
    "image2.resize((512, 512))"
   ]
  },
  {
   "cell_type": "code",
   "execution_count": null,
   "id": "98bd09f0-1f27-4357-a4d7-0b4d79e3c617",
   "metadata": {},
   "outputs": [],
   "source": [
    "image3 = image1.convert('1')\n",
    "image3.save(\"dithering3.png\")\n",
    "image3.resize((512, 512))"
   ]
  },
  {
   "cell_type": "code",
   "execution_count": null,
   "id": "198686ad-9325-4ca8-9624-362ae2e58424",
   "metadata": {},
   "outputs": [],
   "source": [
    "fig, axs = plt.subplots(1, 3, sharex=True, sharey=True,)\n",
    "\n",
    " \n",
    "\n",
    "for ax, letter in zip(axs, string.ascii_lowercase):\n",
    "\n",
    "    text = f\"{letter})\"\n",
    "    ax.text(\n",
    "        0.05,\n",
    "        0.95,\n",
    "        text,\n",
    "        verticalalignment=\"center\",\n",
    "        horizontalalignment=\"center\",\n",
    "        transform = ax.transAxes,\n",
    "        fontsize=22,\n",
    "        path_effects=[OUTLINE],\n",
    "        \n",
    "    )\n",
    "\n",
    "for ax in axs:\n",
    "    ax.axis(\"off\")\n",
    "\n",
    "axs[0].imshow(np.asarray(image1.convert(\"L\")), cmap=matplotlib.cm.Greys.reversed())\n",
    "axs[1].imshow(np.asarray(image3), cmap=matplotlib.cm.Greys.reversed())\n",
    "axs[2].imshow(np.asarray(image2), cmap=matplotlib.cm.Greys.reversed())\n",
    "\n",
    "fig.subplots_adjust(\n",
    "    left  = 0.0,  # the left side of the subplots of the figure\n",
    "    right = 0.1,    # the right side of the subplots of the figure\n",
    "    bottom = 0.0,   # the bottom of the subplots of the figure\n",
    "    top = 0.1,      # the top of the subplots of the figure\n",
    "    wspace = 0.05,   # the amount of width reserved for blank space between subplots\n",
    "    hspace = 0.1,   # the amount of height reserved for white space between subplots\n",
    ")\n",
    "fig.tight_layout()\n",
    "fig.set_figwidth(16)\n",
    "\n",
    "filename=\"dithering_example.png\"\n",
    "fig.savefig(filename, bbox_inches=\"tight\")"
   ]
  },
  {
   "cell_type": "code",
   "execution_count": null,
   "id": "d0004c5a-632d-4e18-905e-145ebbfc0a55",
   "metadata": {},
   "outputs": [],
   "source": []
  }
 ],
 "metadata": {
  "language_info": {
   "name": "python"
  }
 },
 "nbformat": 4,
 "nbformat_minor": 5
}
