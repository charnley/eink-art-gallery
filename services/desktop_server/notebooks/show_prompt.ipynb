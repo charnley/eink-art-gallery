{
 "cells": [
  {
   "cell_type": "code",
   "execution_count": null,
   "id": "b4e9e531-2975-4bf8-9373-d1cf59a64cb2",
   "metadata": {},
   "outputs": [],
   "source": [
    "%load_ext autoreload\n",
    "%autoreload 2"
   ]
  },
  {
   "cell_type": "code",
   "execution_count": null,
   "id": "7de7d21d-e4e0-4e63-9d99-de0000b08fc2",
   "metadata": {},
   "outputs": [],
   "source": [
    "from desktop_server.art_generator import load_sd3, prompt_sd3"
   ]
  },
  {
   "cell_type": "code",
   "execution_count": null,
   "id": "4809984c-e7de-4008-b4ca-a926a1c6158d",
   "metadata": {},
   "outputs": [],
   "source": [
    "from shared_image_utils.dithering import atkinson_dither"
   ]
  },
  {
   "cell_type": "code",
   "execution_count": null,
   "id": "0b1521b3-0589-4508-a1ff-b5505bd49aa8",
   "metadata": {},
   "outputs": [],
   "source": [
    "from shared_matplotlib_utils import OUTLINE"
   ]
  },
  {
   "cell_type": "code",
   "execution_count": null,
   "id": "55960b68-4595-42aa-80f7-bbb3bb228b77",
   "metadata": {},
   "outputs": [],
   "source": [
    "import string"
   ]
  },
  {
   "cell_type": "code",
   "execution_count": null,
   "id": "fbb2821c-015d-4b8d-8554-18ee37434930",
   "metadata": {},
   "outputs": [],
   "source": [
    "from matplotlib import pyplot as plt\n",
    "import matplotlib\n",
    "import numpy as np"
   ]
  },
  {
   "cell_type": "code",
   "execution_count": null,
   "id": "ef58849e-a205-45c0-9e08-feaa07e8dc84",
   "metadata": {},
   "outputs": [],
   "source": [
    "# Get model"
   ]
  },
  {
   "cell_type": "code",
   "execution_count": null,
   "id": "91d4757c-fce1-414b-8f4d-61bd0255d2ed",
   "metadata": {},
   "outputs": [],
   "source": [
    "model = load_sd3()"
   ]
  },
  {
   "cell_type": "code",
   "execution_count": null,
   "id": "a5664221-4900-4b67-8a8d-984c74f04d42",
   "metadata": {},
   "outputs": [],
   "source": [
    "# Generate a base AI photo"
   ]
  },
  {
   "cell_type": "code",
   "execution_count": null,
   "id": "df4029a9-5dca-4867-9ab6-53c3d43257ad",
   "metadata": {},
   "outputs": [],
   "source": [
    "prompt = \"forest, skiing, swiss alps\"\n",
    "width = 256\n",
    "height = 256"
   ]
  },
  {
   "cell_type": "code",
   "execution_count": null,
   "id": "933d0166-09ac-4bba-b5e6-9440557175e8",
   "metadata": {},
   "outputs": [],
   "source": [
    "image1 = prompt_sd3(model, prompt, width=width, height=height)\n",
    "image1"
   ]
  },
  {
   "cell_type": "code",
   "execution_count": null,
   "id": "d94074db-65fa-472d-9a27-2da161da0c10",
   "metadata": {},
   "outputs": [],
   "source": [
    "image2 = prompt_sd3(model, \"pen sketch, cartoon, bw \"+prompt, width=width, height=height)\n",
    "image2"
   ]
  },
  {
   "cell_type": "code",
   "execution_count": null,
   "id": "536e1714-999d-46af-bb63-2f8868ab3ec5",
   "metadata": {},
   "outputs": [],
   "source": []
  },
  {
   "cell_type": "code",
   "execution_count": null,
   "id": "d5a829c2-180e-45cd-8ed9-07aaf16a1f4d",
   "metadata": {},
   "outputs": [],
   "source": []
  },
  {
   "cell_type": "code",
   "execution_count": null,
   "id": "198686ad-9325-4ca8-9624-362ae2e58424",
   "metadata": {},
   "outputs": [],
   "source": [
    "fig, axs = plt.subplots(2, 2, figsize=(8,8), constrained_layout=True)\n",
    "\n",
    "for ax, letter in zip(axs.flat, string.ascii_lowercase):\n",
    "    ax.axis(\"off\")\n",
    "\n",
    "    text = f\"{letter})\"\n",
    "    ax.text(\n",
    "        0.05,\n",
    "        0.95,\n",
    "        text,\n",
    "        verticalalignment=\"center\",\n",
    "        horizontalalignment=\"center\",\n",
    "        transform = ax.transAxes,\n",
    "        fontsize=15,\n",
    "        path_effects=[OUTLINE],\n",
    "        \n",
    "    )\n",
    "\n",
    "axs[0, 0].imshow(np.asarray(image1), cmap=matplotlib.cm.Greys.reversed())\n",
    "axs[0, 1].imshow(np.asarray(image2), cmap=matplotlib.cm.Greys.reversed())\n",
    "\n",
    "axs[1, 0].imshow(np.asarray(atkinson_dither(image1)), cmap=matplotlib.cm.Greys.reversed())\n",
    "axs[1, 1].imshow(np.asarray(atkinson_dither(image2)), cmap=matplotlib.cm.Greys.reversed())\n",
    "\n",
    "filename=\"prompt_example.png\"\n",
    "fig.savefig(filename, bbox_inches=\"tight\")"
   ]
  },
  {
   "cell_type": "code",
   "execution_count": null,
   "id": "299f0085-9c74-40dd-abcf-6fd170a223f9",
   "metadata": {},
   "outputs": [],
   "source": []
  }
 ],
 "metadata": {
  "language_info": {
   "name": "python"
  }
 },
 "nbformat": 4,
 "nbformat_minor": 5
}
