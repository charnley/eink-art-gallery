{
 "cells": [
  {
   "cell_type": "code",
   "execution_count": null,
   "id": "fc00dabf-ae24-45ee-a2b6-42ef27eab8c2",
   "metadata": {},
   "outputs": [],
   "source": [
    "%load_ext autoreload\n",
    "%autoreload 2"
   ]
  },
  {
   "cell_type": "code",
   "execution_count": null,
   "id": "35ff45b0-42c5-4b76-ae42-9a6670a32a4b",
   "metadata": {},
   "outputs": [],
   "source": [
    "import ollama"
   ]
  },
  {
   "cell_type": "code",
   "execution_count": null,
   "id": "250a2efc-e92d-4219-9a9d-375796207b50",
   "metadata": {},
   "outputs": [],
   "source": [
    "# ollama.create(model='example', from_='llama3.2', system=\"You are a image prompt generator\")\n",
    "ollama.create(model='example', from_='deepseek-r1:1.5b', system=\"You are a image prompt generator\")"
   ]
  },
  {
   "cell_type": "markdown",
   "id": "74865e1d-957b-443c-83a3-d29a4fad7eb0",
   "metadata": {},
   "source": [
    "# Generate Prompt"
   ]
  },
  {
   "cell_type": "code",
   "execution_count": null,
   "id": "b7dc7f40-05dd-4ee5-8df3-8a33590a19d5",
   "metadata": {},
   "outputs": [],
   "source": [
    "task_instruction = (\n",
    "    \"Generate a detailed image generation prompt. The result should be a comma-separated list \"\n",
    "    \"of descriptive phrases for an AI art model. No numbering and no intro. Styles that work well are following. Emphasis on drawing and painting styles that works for black and white.\"\n",
    "    \"abstract simplistic line art \"\n",
    "    \"assembly drawing \\n\"\n",
    "    \"brush pen drawing, white background\\n\"\n",
    "    \"circut diagram \\n\"\n",
    "    \"coloring book page, white background \\n\"\n",
    "    \"coloring-in sheet, white background\\n\"\n",
    "    \"elevation drawing\\n\"\n",
    "    \"ink drawing, white background\\n\"\n",
    "    \"one line art\\n\"\n",
    "    \"one line, black and white, drawing\\n\"\n",
    "    \"parametric drawing\\n\"\n",
    "    \"pen drawing, white background\\n\"\n",
    "    \"schematics\\n\"\n",
    "    \"silhouette\\n\"\n",
    "    \"stippling\\n\"\n",
    "    \"sumi-e drawing, white background\\n\"\n",
    "    \"wireframe\\n\"\n",
    "    \"wood engraving\\n\"\n",
    "    \"\\n\"\n",
    "    \"Example that works well: colorful painting, black white red, Traditional, vibrant, detailed, fluid, expressive, landscape, dynamic, textured\"\n",
    "    \"\\n\\n\"\n",
    "    \"Create a prompt with a specific subject (animal, landscape, etc) and use good description for the image prompt\"\n",
    ")"
   ]
  },
  {
   "cell_type": "code",
   "execution_count": null,
   "id": "389f7a2d-acd0-4f5c-a1c8-4f31e9ee2b7e",
   "metadata": {},
   "outputs": [],
   "source": [
    "task_instruction = \"\"\"\n",
    "Generate a detailed image generation prompt. The result should be a comma-separated list of descriptive phrases for an AI art model. No numbering and no intro. Styles that work well are following. Emphasis on drawing and painting styles that works for black and white.abstract simplistic line art assembly drawing \n",
    "Return format should be a single line of text with comma seperated describtions\n",
    "\n",
    "Examples that works well:\n",
    "cute creature by Alex Pardee, exspressive, surreal, bw, white background\n",
    "sketch by Doug Hyde, Whimsical, bw, heartwarming, cheerful, playful, emotive, charming, uplifting, sentimental, simplistic, joyful, contemporary, friendly, illustrative, childlike, vibrant, tender, positive, endearing.\n",
    "cartoon by Mo Willems, cute, detailed animal, fine lines, bw, white background\n",
    "cute fantasy animal by Arthur Adams, fine lines, detailed, BW, psychedelic\n",
    "by Alex Andreev++, Surreal, Futuristic, Sci-fi, Dreamlike, Digital, Imaginative, Atmospheric, Abstract, Dystopian, Ethereal, Conceptual, Vivid, Fantasy, Otherworldly, Innovative, bw\n",
    "landscape by Norman Ackroyd++, Monochromatic, etching, landscapes, detailed, atmospheric, moody, textural, coastal, British, minimalist, evocative, natural, serene, intricate, timeless, contemplative, traditional, marine, expressive, tonal.\n",
    "painting by Charles-Francois Daubigny, bw\n",
    "by Sidney Sime, mysterious, moon, forest, bw\n",
    "by Hugh Ferriss, epic, urban, bw\n",
    "by Stephen Wiltshire, fine lines, detailed, urban, bw, white background\n",
    "by Yang Yongliang, landscape, dreamy, realistic, bw, painting\n",
    "by Nicolas Delort, sci-fi, scene, landscape dark, fine lines, bw\n",
    "landscape by Dariusz Klimczak, surreal, bw\n",
    "by Ton Dubbeldam, landscape, moody, cute, bw, white background\n",
    "landscape by Jon Klassen, minimalist, animals, bw\n",
    "painting by Zhang+ Daqian++, Traditional, vibrant, detailed, fluid, expressive, landscape, dynamic, textured, versatile, intricate, modern interpretation, natural scenes, elegant, spontaneous, rich, classical techniques, innovative\n",
    "water ink painting by Agnes Cecile, Watercolor, ink, expressive, abstract, portraiture, vibrant, fluid, emotive, surreal, mixed media, contemporary, delicate, dynamic, spontaneous, atmospheric.\n",
    "By Dan Hillier, fine lines, bw, surreal floral, drawing, white background\n",
    "by Andy Singer, fine lines, detailed, urban, fantasy, dreamy, bw\n",
    "\n",
    "Art styles that works well:\n",
    "abstract simplistic line art\n",
    "assembly drawing\n",
    "brush pen drawing, white background\n",
    "circut diagram\n",
    "coloring book page, white background\n",
    "coloring-in sheet, white background\n",
    "elevation drawing\n",
    "ink drawing, white background\n",
    "one line art\n",
    "one line, black and white, drawing\n",
    "parametric drawing\n",
    "pen drawing, white background\n",
    "schematics\n",
    "silhouette\n",
    "stippling\n",
    "sumi-e drawing, white background\n",
    "wireframe\n",
    "wood engraving\n",
    "Etching\n",
    "Fashion Illustration\n",
    "Graphite Drawing\n",
    "Impressionism\n",
    "Infographic\n",
    "Ink Wash\n",
    "Japanese Ukiyo-e\n",
    "Linocut\n",
    "Lithography\n",
    "Penand Ink\n",
    "Pastel\n",
    "Printmaking\n",
    "Scratchboard\n",
    "Technical Illustration\n",
    "Watercolor\n",
    "Wire Art\n",
    "Woodblock Printing\n",
    "\n",
    "Create a prompt with a subject of your choice, could be anything, describe it and describe the style well\n",
    "\"\"\""
   ]
  },
  {
   "cell_type": "code",
   "execution_count": null,
   "id": "598f343c-a9a9-474a-a438-44dd891edbaa",
   "metadata": {},
   "outputs": [],
   "source": [
    "print(task_instruction)"
   ]
  },
  {
   "cell_type": "code",
   "execution_count": null,
   "id": "d5002062-f0cf-43ca-8d05-8f0707b2a73e",
   "metadata": {},
   "outputs": [],
   "source": [
    "results = ollama.generate(model='deepseek-r1:1.5b', prompt=task_instruction)"
   ]
  },
  {
   "cell_type": "code",
   "execution_count": null,
   "id": "d94e84e6-f47d-4825-9384-2513d53ca7f3",
   "metadata": {},
   "outputs": [],
   "source": [
    "print(results['response'])"
   ]
  },
  {
   "cell_type": "code",
   "execution_count": null,
   "id": "7acb4fdd-6150-4a72-b312-ff611343ed0e",
   "metadata": {},
   "outputs": [],
   "source": []
  },
  {
   "cell_type": "code",
   "execution_count": null,
   "id": "1632814b-512c-46bc-ab8a-b081ae835cd6",
   "metadata": {},
   "outputs": [],
   "source": [
    "winner = \"Whimsical forest painting by Alex Carter, featuring vivid line drawings with flowing trees, detailed leaves, vibrant colors, abstract lines for mountains, subtle reflections on ice, surreal clouds, realistic water effects, ethereal atmosphere.\""
   ]
  },
  {
   "cell_type": "code",
   "execution_count": null,
   "id": "8929b766-714b-4b78-b57c-896ba8141598",
   "metadata": {},
   "outputs": [],
   "source": [
    "responses = results['response'].split(\"\\n\")\n",
    "responses = [x.strip() for x in responses if len(x)]"
   ]
  },
  {
   "cell_type": "code",
   "execution_count": null,
   "id": "3dfb0940-5e85-475f-aff7-c96f772773a1",
   "metadata": {},
   "outputs": [],
   "source": [
    "responses"
   ]
  },
  {
   "cell_type": "markdown",
   "id": "ab2b3b2a-8f6d-4563-9d17-1e902013e9a7",
   "metadata": {},
   "source": [
    "# Generate Image"
   ]
  },
  {
   "cell_type": "code",
   "execution_count": null,
   "id": "650ffb08-a2f2-42f9-9184-ebd024e83037",
   "metadata": {},
   "outputs": [],
   "source": [
    "from desktop_server.art_generator import load_sd3, prompt_sd3"
   ]
  },
  {
   "cell_type": "code",
   "execution_count": null,
   "id": "5a0bcd80-066a-4e08-b50f-3ef2026943fa",
   "metadata": {},
   "outputs": [],
   "source": [
    "model = load_sd3()"
   ]
  },
  {
   "cell_type": "code",
   "execution_count": null,
   "id": "c371e4e5-022d-43a7-9223-8478ef5bfd73",
   "metadata": {},
   "outputs": [],
   "source": [
    "width = 512\n",
    "height = 512"
   ]
  },
  {
   "cell_type": "code",
   "execution_count": null,
   "id": "53478efc-48e0-4c79-b0e7-433f502db4b8",
   "metadata": {},
   "outputs": [],
   "source": [
    "image1 = prompt_sd3(model, winner, width=width, height=height)"
   ]
  },
  {
   "cell_type": "code",
   "execution_count": null,
   "id": "ff73ac96-7ee0-430f-b4de-83e2bdcac160",
   "metadata": {},
   "outputs": [],
   "source": [
    "image1"
   ]
  },
  {
   "cell_type": "code",
   "execution_count": null,
   "id": "9c1a54a5-7037-4f30-9f35-4434842ed61f",
   "metadata": {},
   "outputs": [],
   "source": []
  }
 ],
 "metadata": {
  "language_info": {
   "name": "python"
  }
 },
 "nbformat": 4,
 "nbformat_minor": 5
}
