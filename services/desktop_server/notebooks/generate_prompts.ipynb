{
 "cells": [
  {
   "cell_type": "code",
   "execution_count": null,
   "id": "fc00dabf-ae24-45ee-a2b6-42ef27eab8c2",
   "metadata": {},
   "outputs": [],
   "source": [
    "%load_ext autoreload\n",
    "%autoreload 2"
   ]
  },
  {
   "cell_type": "code",
   "execution_count": null,
   "id": "35ff45b0-42c5-4b76-ae42-9a6670a32a4b",
   "metadata": {},
   "outputs": [],
   "source": [
    "import ollama"
   ]
  },
  {
   "cell_type": "code",
   "execution_count": null,
   "id": "250a2efc-e92d-4219-9a9d-375796207b50",
   "metadata": {},
   "outputs": [],
   "source": [
    "ollama.create(model='example', from_='llama3.2', system=\"You are Mario from Super Mario Bros.\")"
   ]
  },
  {
   "cell_type": "code",
   "execution_count": null,
   "id": "b7dc7f40-05dd-4ee5-8df3-8a33590a19d5",
   "metadata": {},
   "outputs": [],
   "source": [
    "task_instruction = (\n",
    "    \"Generate a detailed image generation prompt. The result should be a comma-separated list \"\n",
    "    \"of descriptive phrases for an AI art model. Styles that work well are following, but prompts still need a subject. Only return prompt\"\n",
    "    \"abstract simplistic line art \"\n",
    "    \"assembly drawing \\n\"\n",
    "    \"brush pen drawing, white background\\n\"\n",
    "    \"circut diagram \\n\"\n",
    "    \"coloring book page, white background \\n\"\n",
    "    \"coloring-in sheet, white background\\n\"\n",
    "    \"elevation drawing\\n\"\n",
    "    \"ink drawing, white background\\n\"\n",
    "    \"one line art\\n\"\n",
    "    \"one line, black and white, drawing\\n\"\n",
    "    \"parametric drawing\\n\"\n",
    "    \"pen drawing, white background\\n\"\n",
    "    \"schematics\\n\"\n",
    "    \"silhouette\\n\"\n",
    "    \"stippling\\n\"\n",
    "    \"sumi-e drawing, white background\\n\"\n",
    "    \"wireframe\\n\"\n",
    "    \"wood engraving\\n\"\n",
    "    \"Only output the results\\n\\n\"\n",
    "    \"Example: \"\n",
    "    \"colorful painting, black white red, Traditional, vibrant, detailed, fluid, expressive, landscape, dynamic, textured\"\n",
    "    \"\\n\\n\"\n",
    "    \"Do one with subject being a cute hairless lion\"\n",
    ")"
   ]
  },
  {
   "cell_type": "code",
   "execution_count": null,
   "id": "598f343c-a9a9-474a-a438-44dd891edbaa",
   "metadata": {},
   "outputs": [],
   "source": [
    "print(task_instruction)"
   ]
  },
  {
   "cell_type": "code",
   "execution_count": null,
   "id": "d5002062-f0cf-43ca-8d05-8f0707b2a73e",
   "metadata": {},
   "outputs": [],
   "source": [
    "results = ollama.generate(model='llama3.2', prompt=task_instruction)"
   ]
  },
  {
   "cell_type": "code",
   "execution_count": null,
   "id": "d94e84e6-f47d-4825-9384-2513d53ca7f3",
   "metadata": {},
   "outputs": [],
   "source": [
    "print(results['response'])"
   ]
  },
  {
   "cell_type": "code",
   "execution_count": null,
   "id": "7acb4fdd-6150-4a72-b312-ff611343ed0e",
   "metadata": {},
   "outputs": [],
   "source": []
  },
  {
   "cell_type": "code",
   "execution_count": null,
   "id": "650ffb08-a2f2-42f9-9184-ebd024e83037",
   "metadata": {},
   "outputs": [],
   "source": [
    "from desktop_server.art_generator import load_sd3, prompt_sd3"
   ]
  },
  {
   "cell_type": "code",
   "execution_count": null,
   "id": "5a0bcd80-066a-4e08-b50f-3ef2026943fa",
   "metadata": {},
   "outputs": [],
   "source": [
    "model = load_sd3()"
   ]
  },
  {
   "cell_type": "code",
   "execution_count": null,
   "id": "c371e4e5-022d-43a7-9223-8478ef5bfd73",
   "metadata": {},
   "outputs": [],
   "source": [
    "width = 512\n",
    "height = 512"
   ]
  },
  {
   "cell_type": "code",
   "execution_count": null,
   "id": "53478efc-48e0-4c79-b0e7-433f502db4b8",
   "metadata": {},
   "outputs": [],
   "source": [
    "image1 = prompt_sd3(model, results['response'], width=width, height=height)"
   ]
  },
  {
   "cell_type": "code",
   "execution_count": null,
   "id": "ff73ac96-7ee0-430f-b4de-83e2bdcac160",
   "metadata": {},
   "outputs": [],
   "source": [
    "image1"
   ]
  },
  {
   "cell_type": "code",
   "execution_count": null,
   "id": "9c1a54a5-7037-4f30-9f35-4434842ed61f",
   "metadata": {},
   "outputs": [],
   "source": []
  }
 ],
 "metadata": {
  "language_info": {
   "name": "python"
  }
 },
 "nbformat": 4,
 "nbformat_minor": 5
}
