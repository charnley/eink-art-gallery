{
 "cells": [
  {
   "cell_type": "code",
   "execution_count": null,
   "id": "a3c121ef-7d0a-4954-ac4f-cb9a36dae0c4",
   "metadata": {},
   "outputs": [],
   "source": [
    "%load_ext autoreload\n",
    "%autoreload 2"
   ]
  },
  {
   "cell_type": "code",
   "execution_count": null,
   "id": "cd22beed-e0df-403a-925e-3ce7e55d695e",
   "metadata": {},
   "outputs": [],
   "source": [
    "import warnings\n",
    "warnings.filterwarnings('ignore', category=UserWarning)"
   ]
  },
  {
   "cell_type": "code",
   "execution_count": null,
   "id": "6ef82fa0-1b41-4909-9218-2172dd56e909",
   "metadata": {},
   "outputs": [],
   "source": [
    "import torch"
   ]
  },
  {
   "cell_type": "code",
   "execution_count": null,
   "id": "e7b53365-9921-4b16-95ba-be1d2623e768",
   "metadata": {},
   "outputs": [],
   "source": [
    "assert torch.cuda.is_available()"
   ]
  },
  {
   "cell_type": "code",
   "execution_count": null,
   "id": "842ba1ec-7f48-4bbe-90dc-03b4bdeaf1e1",
   "metadata": {},
   "outputs": [],
   "source": [
    "from PIL import Image\n",
    "from PIL.Image import Dither"
   ]
  },
  {
   "cell_type": "code",
   "execution_count": null,
   "id": "25c6e2cd-fff4-444d-90cb-99620a720c80",
   "metadata": {},
   "outputs": [],
   "source": [
    "import numpy as np"
   ]
  },
  {
   "cell_type": "code",
   "execution_count": null,
   "id": "c5c0aa13-0e02-4f9e-968c-9a0e77e551f8",
   "metadata": {},
   "outputs": [],
   "source": [
    "import art_utils"
   ]
  },
  {
   "cell_type": "code",
   "execution_count": null,
   "id": "eae8967f-114e-4931-ac94-db1124266baf",
   "metadata": {},
   "outputs": [],
   "source": [
    "import matplotlib.pyplot as plt\n",
    "import numpy as np\n",
    "from matplotlib import cm\n",
    "import matplotlib as mpl\n",
    "from PIL import ImageOps  "
   ]
  },
  {
   "cell_type": "code",
   "execution_count": null,
   "id": "a9917491-022c-425f-8036-a1cfc7946a74",
   "metadata": {},
   "outputs": [],
   "source": [
    "import io"
   ]
  },
  {
   "cell_type": "markdown",
   "id": "01e1e5b3-1703-49fc-b654-ab7401f6d7b4",
   "metadata": {},
   "source": [
    "## Login\n",
    "\n",
    "- Create a login\n",
    "- Create a token (fineGrained)\n",
    "- Edit token access and add \"Read access to contents of all public gated repos you can access\"\n"
   ]
  },
  {
   "cell_type": "code",
   "execution_count": null,
   "id": "f5af6856-ff03-4fdb-9ed3-9f3137c05b49",
   "metadata": {},
   "outputs": [],
   "source": [
    "\n"
   ]
  },
  {
   "cell_type": "code",
   "execution_count": null,
   "id": "f094d52e-0f13-469b-9966-8d6f986bc5ab",
   "metadata": {},
   "outputs": [],
   "source": [
    "\n",
    "fig = plt.figure()\n",
    "\n",
    "display_axes = fig.add_axes([0.1,0.1,0.8,0.8], projection='polar')\n",
    "display_axes._direction = 2*np.pi ## This is a nasty hack - using the hidden field to \n",
    "                                  ## multiply the values such that 1 become 2*pi\n",
    "                                  ## this field is supposed to take values 1 or -1 only!!\n",
    "\n",
    "norm = mpl.colors.Normalize(0.0, 2*np.pi)\n",
    "\n",
    "# Plot the colorbar onto the polar axis\n",
    "# note - use orientation horizontal so that the gradient goes around\n",
    "# the wheel rather than centre out\n",
    "quant_steps = 2056\n",
    "cb = mpl.colorbar.ColorbarBase(display_axes, cmap=plt.get_cmap('hsv',quant_steps),\n",
    "                                   norm=norm,\n",
    "                                   orientation='horizontal')\n",
    "\n",
    "# aesthetics - get rid of border and axis labels                                   \n",
    "cb.outline.set_visible(False)                                 \n",
    "display_axes.set_axis_off()\n",
    "\n",
    "buf = io.BytesIO()\n",
    "fig.savefig(buf, dpi=my_dpi)\n",
    "buf.seek(0)\n",
    "image = Image.open(buf)\n"
   ]
  },
  {
   "cell_type": "code",
   "execution_count": null,
   "id": "e5a90f62-4f45-43ec-a931-a6cc35565922",
   "metadata": {},
   "outputs": [],
   "source": [
    "def colorFader(c1,c2,mix=0): #fade (linear interpolate) from color c1 (at mix=0) to c2 (mix=1)\n",
    "    c1=np.array(mpl.colors.to_rgb(c1))\n",
    "    c2=np.array(mpl.colors.to_rgb(c2))\n",
    "    return mpl.colors.to_hex((1-mix)*c1 + mix*c2)"
   ]
  },
  {
   "cell_type": "code",
   "execution_count": null,
   "id": "e8c20dd5-0757-4610-90d3-9d14e8a50a54",
   "metadata": {},
   "outputs": [],
   "source": [
    "width = 960\n",
    "height = 680\n",
    "my_dpi = 96\n",
    "\n",
    "fig, ax = plt.subplots(\n",
    "    1,1, figsize=(width/my_dpi, height/my_dpi), dpi=my_dpi\n",
    ")\n",
    "\n",
    "c1='#0000'\n",
    "c2='#f000'\n",
    "n=500\n",
    "\n",
    "for x in range(n+1):\n",
    "    ax.axvline(x, color=colorFader(c1,c2,x/n), linewidth=4) \n",
    "ax.axis('off')\n",
    "\n",
    "buf = io.BytesIO()\n",
    "fig.savefig(buf, dpi=my_dpi)\n",
    "buf.seek(0)\n",
    "image = Image.open(buf)"
   ]
  },
  {
   "cell_type": "markdown",
   "id": "2e978225-3565-4a4f-95fa-76f3d60cc231",
   "metadata": {},
   "source": [
    "## Load pipe"
   ]
  },
  {
   "cell_type": "code",
   "execution_count": null,
   "id": "b59714f7-7c01-4a38-b7c7-f56120bbee12",
   "metadata": {},
   "outputs": [],
   "source": [
    "from diffusers import StableDiffusion3Pipeline"
   ]
  },
  {
   "cell_type": "code",
   "execution_count": null,
   "id": "cde6d6ea-9cc3-4cec-83fc-8fa699e62652",
   "metadata": {},
   "outputs": [],
   "source": [
    "pipe = StableDiffusion3Pipeline.from_pretrained(\"stabilityai/stable-diffusion-3-medium-diffusers\", torch_dtype=torch.float16)"
   ]
  },
  {
   "cell_type": "code",
   "execution_count": null,
   "id": "f783e2a2-b469-4a37-9d7b-1ba78f2e8b60",
   "metadata": {},
   "outputs": [],
   "source": [
    "pipe = pipe.to(\"cuda\")"
   ]
  },
  {
   "cell_type": "markdown",
   "id": "028db082-853a-4d4e-9f3b-8e14f02bdada",
   "metadata": {},
   "source": [
    "## Selecting a bad prompt\n",
    "Select a prompt that will generate a picture with lots of \"grey\" area"
   ]
  },
  {
   "cell_type": "code",
   "execution_count": null,
   "id": "fdcbcdf1-f16e-4a46-ac22-90168263ebf8",
   "metadata": {},
   "outputs": [],
   "source": [
    "prompt = \"by Kazuo Umezu, horror, detailed, madness fine lines, surreal, color depth, white background, landscape\"\n",
    "prompt = \"greay paint gradient, from white to black, colourful, high contrast\"\n",
    "prompt = \"painting of a colorfull landscape\"\n",
    "prompt = \"by Kazuo Umezu, horror, detailed, madness fine lines, surreal, color depth, white background, landscape, face covered in blood\"\n",
    "prompt = \"korean comic style, drawing, sketch, bold lines, Cute red bear\"\n",
    "prompt = \"painting, forest, big mountains, high contrast, beautiful red sunset\"\n",
    "prompt = \"cherry blossom painting by Zhang+ Daqian++, Traditional, vibrant, fluid, expressive, elegant, rich, classical techniques, white background\"\n",
    "prompt = \"by Nicolas Delort, sci-fi, scene, landscape dark, fine lines, bw and red\"\n",
    "prompt =\"sketch by Doug Hyde, Whimsical, bw, red, heartwarming, cheerful, playful, emotive, charming, uplifting, sentimental, simplistic, joyful, contemporary, friendly, illustrative, childlike, vibrant, tender, positive, endearing.\""
   ]
  },
  {
   "cell_type": "code",
   "execution_count": null,
   "id": "7e3d116d-b481-4a90-a4ed-e6ae3633e105",
   "metadata": {},
   "outputs": [],
   "source": [
    "meta = pipe(\n",
    "    prompt,\n",
    "    negative_prompt=\"signature, watermark, border, text\",\n",
    "    num_inference_steps=28,\n",
    "    guidance_scale=7.0,\n",
    "    num_images_per_prompt=1,\n",
    "    width=960,\n",
    "    height=688\n",
    ")\n",
    "\n",
    "images = meta.images\n",
    "image = images[0]"
   ]
  },
  {
   "cell_type": "code",
   "execution_count": null,
   "id": "ee594144-ab72-41b5-8ea8-07cf02f0e1e4",
   "metadata": {},
   "outputs": [],
   "source": [
    "image = image.resize((960, 680))"
   ]
  },
  {
   "cell_type": "code",
   "execution_count": null,
   "id": "63a417c1-1c57-4324-942c-a312dd98f7c8",
   "metadata": {},
   "outputs": [],
   "source": [
    "meta"
   ]
  },
  {
   "cell_type": "code",
   "execution_count": null,
   "id": "e6e85df2-fbc6-4a89-8bf9-82935948467d",
   "metadata": {},
   "outputs": [],
   "source": [
    "image"
   ]
  },
  {
   "cell_type": "markdown",
   "id": "c0c9777f-0b93-4bd4-9351-eb22b4ce6812",
   "metadata": {},
   "source": [
    "# Split channels"
   ]
  },
  {
   "cell_type": "code",
   "execution_count": null,
   "id": "9e7680af-396b-4f58-8918-5adef310e6fd",
   "metadata": {},
   "outputs": [],
   "source": [
    "image_red, image_gb = art_utils.image_split_red_channel(image)"
   ]
  },
  {
   "cell_type": "code",
   "execution_count": null,
   "id": "e3d94c36-e9f1-4511-a21f-ba0a016ea168",
   "metadata": {},
   "outputs": [],
   "source": [
    "image_gb = image_gb.convert(\"L\")"
   ]
  },
  {
   "cell_type": "code",
   "execution_count": null,
   "id": "18f3678d-66e8-4912-8cf3-bd0984be836a",
   "metadata": {},
   "outputs": [],
   "source": [
    "image_red = ImageOps.invert(image_red.convert(\"L\"))"
   ]
  },
  {
   "cell_type": "code",
   "execution_count": null,
   "id": "633c5b2c-d4b0-4e8b-a823-0a4b98b3a3cd",
   "metadata": {},
   "outputs": [],
   "source": [
    "display(image)\n",
    "display(image_red)\n",
    "display(image_gb)"
   ]
  },
  {
   "cell_type": "code",
   "execution_count": null,
   "id": "1a9b02d8-e519-4306-b50c-794904c18563",
   "metadata": {},
   "outputs": [],
   "source": []
  },
  {
   "cell_type": "code",
   "execution_count": null,
   "id": "28e90e89-5839-4b25-9dca-4ca840fdcc5c",
   "metadata": {},
   "outputs": [],
   "source": []
  },
  {
   "cell_type": "markdown",
   "id": "524788e0-69ac-43b0-8961-54926c4ba3cc",
   "metadata": {},
   "source": [
    "## Try dithering and send to "
   ]
  },
  {
   "cell_type": "code",
   "execution_count": null,
   "id": "5fa37047-5b51-4883-a9c0-e3a1d686feaf",
   "metadata": {},
   "outputs": [],
   "source": [
    "# Default dithering for PIL is Floyd-steinberg\n",
    "image_f = image_gb.convert(\"1\", dither=Dither.FLOYDSTEINBERG)\n",
    "image_f"
   ]
  },
  {
   "cell_type": "code",
   "execution_count": null,
   "id": "65bcfa45-0018-425a-b32a-24e53a995348",
   "metadata": {},
   "outputs": [],
   "source": [
    "image_a = art_utils.atkinson_dither(image_red)"
   ]
  },
  {
   "cell_type": "code",
   "execution_count": null,
   "id": "53b419a2-2738-4599-acd4-e70fc7dc0fd1",
   "metadata": {},
   "outputs": [],
   "source": [
    "image_a"
   ]
  },
  {
   "cell_type": "code",
   "execution_count": null,
   "id": "41d4b349-efc9-4ae8-ba69-bf92dbf7d1d7",
   "metadata": {},
   "outputs": [],
   "source": [
    "GRAY1  = 0xff #white\n",
    "GRAY2  = 0xC0\n",
    "GRAY3  = 0x80 #gray\n",
    "GRAY4  = 0x00 #Blackest\n",
    "palette = np.array([GRAY1, GRAY2, GRAY3, GRAY4])\n",
    "palette = np.array([GRAY1, GRAY4])\n",
    "print(palette)"
   ]
  },
  {
   "cell_type": "code",
   "execution_count": null,
   "id": "a448a79a-cb3a-46e2-93f5-a38bb7a6cc80",
   "metadata": {},
   "outputs": [],
   "source": [
    "image_g = art_utils.atkinson_dither_with_palette(image, palette)"
   ]
  },
  {
   "cell_type": "code",
   "execution_count": null,
   "id": "ed069ea7-eda0-4725-a37e-015910885a84",
   "metadata": {},
   "outputs": [],
   "source": [
    "image_g"
   ]
  },
  {
   "cell_type": "code",
   "execution_count": null,
   "id": "caa7e323-e7ee-4649-98d2-b8d4f8791e98",
   "metadata": {},
   "outputs": [],
   "source": []
  },
  {
   "cell_type": "code",
   "execution_count": null,
   "id": "33cb8a18-8bf7-4031-9320-06cf7c56d0c5",
   "metadata": {},
   "outputs": [],
   "source": []
  },
  {
   "cell_type": "markdown",
   "id": "3b8b95ce-93c6-4b20-95f1-61c94f43fc4d",
   "metadata": {},
   "source": [
    "## Compare in one photo"
   ]
  },
  {
   "cell_type": "code",
   "execution_count": null,
   "id": "6548fbc4-ce42-40c9-bf80-1212e0fff999",
   "metadata": {},
   "outputs": [],
   "source": [
    "# Get dimensions\n",
    "width, height = image.size\n",
    "\n",
    "# Find center\n",
    "center_x = int(width/2)\n",
    "center_y = int(height/2)\n",
    "\n",
    "# Split two images\n",
    "a = image_a.crop((0, 0, center_x, height))\n",
    "b = image_g.crop((center_x, 0, width, height))\n",
    "\n",
    "# Merge into one\n",
    "image_m = image.copy()\n",
    "image_m.paste(a, (0,0))\n",
    "image_m.paste(b, (center_x,0))"
   ]
  },
  {
   "cell_type": "code",
   "execution_count": null,
   "id": "a7408e6b-f69c-4604-9ff9-f385b693e8ec",
   "metadata": {},
   "outputs": [],
   "source": [
    "image_m"
   ]
  },
  {
   "cell_type": "markdown",
   "id": "f144edb5-2517-4f52-b376-f7d0e75d865b",
   "metadata": {},
   "source": [
    "# Test by sending to photo"
   ]
  },
  {
   "cell_type": "code",
   "execution_count": null,
   "id": "327a82bd-a8d0-469f-96a9-69bb9f0b0819",
   "metadata": {},
   "outputs": [],
   "source": [
    "from art_utils import network_utils"
   ]
  },
  {
   "cell_type": "code",
   "execution_count": null,
   "id": "d3199107-2ec2-4767-9e61-7955617567e6",
   "metadata": {},
   "outputs": [],
   "source": [
    "r = network_utils.send_photo(image_g, \"http://192.168.1.26:8080/display/image\")\n",
    "r"
   ]
  },
  {
   "cell_type": "code",
   "execution_count": null,
   "id": "e0ee3e77-942e-49ef-8996-9219493e71e1",
   "metadata": {},
   "outputs": [],
   "source": []
  },
  {
   "cell_type": "code",
   "execution_count": null,
   "id": "5e4613d5-4a5b-4d29-bcbf-098f430ef239",
   "metadata": {},
   "outputs": [],
   "source": []
  },
  {
   "cell_type": "code",
   "execution_count": null,
   "id": "4e7000cb-9a34-4f1c-b9be-168cad8a4d28",
   "metadata": {},
   "outputs": [],
   "source": []
  },
  {
   "cell_type": "code",
   "execution_count": null,
   "id": "57197bbe-f70b-4fbf-af1a-ee3388a83a5b",
   "metadata": {},
   "outputs": [],
   "source": [
    "di_gb = art_utils.atkinson_dither(image_gb)\n",
    "di_r = art_utils.atkinson_dither(image_red)"
   ]
  },
  {
   "cell_type": "code",
   "execution_count": null,
   "id": "e97b59fc-f5c7-47a5-8759-0d2103015310",
   "metadata": {},
   "outputs": [],
   "source": [
    "r = network_utils.send_photo_red(di_gb, di_r, \"http://192.168.1.26:8080/display/redImage\")\n",
    "r"
   ]
  },
  {
   "cell_type": "code",
   "execution_count": null,
   "id": "6897eeb8-4931-4c90-add6-151c9cb40a02",
   "metadata": {},
   "outputs": [],
   "source": [
    "print(r.elapsed.total_seconds())"
   ]
  },
  {
   "cell_type": "code",
   "execution_count": null,
   "id": "45bcbdb3-4209-45d5-ae73-019414b68911",
   "metadata": {},
   "outputs": [],
   "source": []
  },
  {
   "cell_type": "code",
   "execution_count": null,
   "id": "3bdb3aca-828c-48ca-b809-18851b8fd2d4",
   "metadata": {},
   "outputs": [],
   "source": []
  },
  {
   "cell_type": "code",
   "execution_count": null,
   "id": "afb8aa3f-1954-4c90-a11f-225fe1d491f4",
   "metadata": {},
   "outputs": [],
   "source": []
  }
 ],
 "metadata": {
  "language_info": {
   "name": "python"
  }
 },
 "nbformat": 4,
 "nbformat_minor": 5
}
