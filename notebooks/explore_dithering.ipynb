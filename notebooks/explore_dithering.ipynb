{
 "cells": [
  {
   "cell_type": "code",
   "execution_count": null,
   "id": "a3c121ef-7d0a-4954-ac4f-cb9a36dae0c4",
   "metadata": {},
   "outputs": [],
   "source": [
    "%load_ext autoreload\n",
    "%autoreload 2"
   ]
  },
  {
   "cell_type": "code",
   "execution_count": null,
   "id": "cd22beed-e0df-403a-925e-3ce7e55d695e",
   "metadata": {},
   "outputs": [],
   "source": [
    "import warnings\n",
    "warnings.filterwarnings('ignore', category=UserWarning)"
   ]
  },
  {
   "cell_type": "code",
   "execution_count": null,
   "id": "6ef82fa0-1b41-4909-9218-2172dd56e909",
   "metadata": {},
   "outputs": [],
   "source": [
    "import torch"
   ]
  },
  {
   "cell_type": "code",
   "execution_count": null,
   "id": "e7b53365-9921-4b16-95ba-be1d2623e768",
   "metadata": {},
   "outputs": [],
   "source": [
    "assert torch.cuda.is_available()"
   ]
  },
  {
   "cell_type": "code",
   "execution_count": null,
   "id": "842ba1ec-7f48-4bbe-90dc-03b4bdeaf1e1",
   "metadata": {},
   "outputs": [],
   "source": [
    "from PIL import Image\n",
    "from PIL.Image import Dither"
   ]
  },
  {
   "cell_type": "code",
   "execution_count": null,
   "id": "25c6e2cd-fff4-444d-90cb-99620a720c80",
   "metadata": {},
   "outputs": [],
   "source": [
    "import numpy as np"
   ]
  },
  {
   "cell_type": "code",
   "execution_count": null,
   "id": "c5c0aa13-0e02-4f9e-968c-9a0e77e551f8",
   "metadata": {},
   "outputs": [],
   "source": [
    "import art_utils"
   ]
  },
  {
   "cell_type": "markdown",
   "id": "01e1e5b3-1703-49fc-b654-ab7401f6d7b4",
   "metadata": {},
   "source": [
    "## Login\n",
    "\n",
    "- Create a login\n",
    "- Create a token (fineGrained)\n",
    "- Edit token access and add \"Read access to contents of all public gated repos you can access\"\n"
   ]
  },
  {
   "cell_type": "code",
   "execution_count": null,
   "id": "f5af6856-ff03-4fdb-9ed3-9f3137c05b49",
   "metadata": {},
   "outputs": [],
   "source": []
  },
  {
   "cell_type": "markdown",
   "id": "2e978225-3565-4a4f-95fa-76f3d60cc231",
   "metadata": {},
   "source": [
    "## Load pipe"
   ]
  },
  {
   "cell_type": "code",
   "execution_count": null,
   "id": "b59714f7-7c01-4a38-b7c7-f56120bbee12",
   "metadata": {},
   "outputs": [],
   "source": [
    "from diffusers import StableDiffusion3Pipeline"
   ]
  },
  {
   "cell_type": "code",
   "execution_count": null,
   "id": "cde6d6ea-9cc3-4cec-83fc-8fa699e62652",
   "metadata": {},
   "outputs": [],
   "source": [
    "pipe = StableDiffusion3Pipeline.from_pretrained(\"stabilityai/stable-diffusion-3-medium-diffusers\", torch_dtype=torch.float16)"
   ]
  },
  {
   "cell_type": "code",
   "execution_count": null,
   "id": "f783e2a2-b469-4a37-9d7b-1ba78f2e8b60",
   "metadata": {},
   "outputs": [],
   "source": [
    "pipe = pipe.to(\"cuda\")"
   ]
  },
  {
   "cell_type": "markdown",
   "id": "028db082-853a-4d4e-9f3b-8e14f02bdada",
   "metadata": {},
   "source": [
    "## Selecting a bad prompt\n",
    "Select a prompt that will generate a picture with lots of \"grey\" area"
   ]
  },
  {
   "cell_type": "code",
   "execution_count": null,
   "id": "fdcbcdf1-f16e-4a46-ac22-90168263ebf8",
   "metadata": {},
   "outputs": [],
   "source": [
    "prompt = \"by Kazuo Umezu, horror, detailed, madness fine lines, surreal, bw, white background\"\n",
    "#prompt = \"comic artwork of two beautiful women atop epic swiss mountain with snow with the words 'happy birthday' in the snow, bw\""
   ]
  },
  {
   "cell_type": "code",
   "execution_count": null,
   "id": "7e3d116d-b481-4a90-a4ed-e6ae3633e105",
   "metadata": {},
   "outputs": [],
   "source": [
    "meta = pipe(\n",
    "    prompt,\n",
    "    negative_prompt=\"\",\n",
    "    num_inference_steps=28,\n",
    "    guidance_scale=7.0,\n",
    "    num_images_per_prompt=1,\n",
    "    width=960,\n",
    "    height=688\n",
    ")\n",
    "\n",
    "images = meta.images\n",
    "image = images[0]"
   ]
  },
  {
   "cell_type": "code",
   "execution_count": null,
   "id": "ee594144-ab72-41b5-8ea8-07cf02f0e1e4",
   "metadata": {},
   "outputs": [],
   "source": [
    "image = image.resize((960, 680))"
   ]
  },
  {
   "cell_type": "code",
   "execution_count": null,
   "id": "63a417c1-1c57-4324-942c-a312dd98f7c8",
   "metadata": {},
   "outputs": [],
   "source": [
    "meta"
   ]
  },
  {
   "cell_type": "code",
   "execution_count": null,
   "id": "e6e85df2-fbc6-4a89-8bf9-82935948467d",
   "metadata": {},
   "outputs": [],
   "source": [
    "image"
   ]
  },
  {
   "cell_type": "markdown",
   "id": "524788e0-69ac-43b0-8961-54926c4ba3cc",
   "metadata": {},
   "source": [
    "## Try dithering and send to "
   ]
  },
  {
   "cell_type": "code",
   "execution_count": null,
   "id": "5fa37047-5b51-4883-a9c0-e3a1d686feaf",
   "metadata": {},
   "outputs": [],
   "source": [
    "# Default dithering for PIL is Floyd-steinberg\n",
    "image_f = image.convert(\"1\", dither=Dither.FLOYDSTEINBERG)\n",
    "image_f"
   ]
  },
  {
   "cell_type": "code",
   "execution_count": null,
   "id": "02a9801c-6063-42b9-bd58-2c6cd25fcc30",
   "metadata": {},
   "outputs": [],
   "source": [
    "def atkinson(image: Image.Image):\n",
    "\n",
    "    frac = 8 # Atkinson constant\n",
    "    neighbours = [(1, 0), (2, 0), (-1, 1), (0, 1), (1, 1), (0, 2)]\n",
    "    img = np.array(image.convert(\"L\"), dtype=np.int32)\n",
    "    \n",
    "    threshold = np.zeros(256, dtype=np.int32)\n",
    "    threshold[128:] = 255\n",
    "    \n",
    "    height, width = img.shape\n",
    "    \n",
    "    for y in range(height):\n",
    "        for x in range(width):\n",
    "            \n",
    "            old = img[y, x]\n",
    "            old = np.min([old, 255])\n",
    "            new = threshold[old]\n",
    "            err = (old - new) // frac\n",
    "            \n",
    "            img[y, x] = new\n",
    "\n",
    "            for dx, dy in neighbours:\n",
    "                nx, ny = x + dx, y + dy\n",
    "                \n",
    "                if 0 <= nx < width and 0 <= ny < height:\n",
    "\n",
    "                    # Make sure that img set is between 0 and 255 (negative error could surpass the value)\n",
    "                    img[ny, nx] = np.clip(img[ny, nx] + err, 0, 255)\n",
    "    \n",
    "    return Image.fromarray(np.uint8(img))"
   ]
  },
  {
   "cell_type": "code",
   "execution_count": null,
   "id": "65bcfa45-0018-425a-b32a-24e53a995348",
   "metadata": {},
   "outputs": [],
   "source": [
    "image_a = atkinson(image)"
   ]
  },
  {
   "cell_type": "code",
   "execution_count": null,
   "id": "53b419a2-2738-4599-acd4-e70fc7dc0fd1",
   "metadata": {},
   "outputs": [],
   "source": [
    "image_a"
   ]
  },
  {
   "cell_type": "code",
   "execution_count": null,
   "id": "41d4b349-efc9-4ae8-ba69-bf92dbf7d1d7",
   "metadata": {},
   "outputs": [],
   "source": [
    "image_c = art_utils.atkinson_dither(image)"
   ]
  },
  {
   "cell_type": "code",
   "execution_count": null,
   "id": "ed069ea7-eda0-4725-a37e-015910885a84",
   "metadata": {},
   "outputs": [],
   "source": [
    "image_c"
   ]
  },
  {
   "cell_type": "markdown",
   "id": "3b8b95ce-93c6-4b20-95f1-61c94f43fc4d",
   "metadata": {},
   "source": [
    "## Compare in one photo"
   ]
  },
  {
   "cell_type": "code",
   "execution_count": null,
   "id": "6548fbc4-ce42-40c9-bf80-1212e0fff999",
   "metadata": {},
   "outputs": [],
   "source": [
    "# Get dimensions\n",
    "width, height = image.size\n",
    "\n",
    "# Find center\n",
    "center_x = int(width/2)\n",
    "center_y = int(height/2)\n",
    "\n",
    "# Split two images\n",
    "a = image_f.crop((0, 0, center_x, height))\n",
    "b = image_a.crop((center_x, 0, width, height))\n",
    "\n",
    "# Merge into one\n",
    "image_m = image.copy()\n",
    "image_m.paste(a, (0,0))\n",
    "image_m.paste(b, (center_x,0))"
   ]
  },
  {
   "cell_type": "code",
   "execution_count": null,
   "id": "a7408e6b-f69c-4604-9ff9-f385b693e8ec",
   "metadata": {},
   "outputs": [],
   "source": [
    "image_m"
   ]
  },
  {
   "cell_type": "markdown",
   "id": "f144edb5-2517-4f52-b376-f7d0e75d865b",
   "metadata": {},
   "source": [
    "# Test by sending to photo"
   ]
  },
  {
   "cell_type": "code",
   "execution_count": null,
   "id": "327a82bd-a8d0-469f-96a9-69bb9f0b0819",
   "metadata": {},
   "outputs": [],
   "source": [
    "from art_utils import network_utils"
   ]
  },
  {
   "cell_type": "code",
   "execution_count": null,
   "id": "d3199107-2ec2-4767-9e61-7955617567e6",
   "metadata": {},
   "outputs": [],
   "source": [
    "r = network_utils.send_photo(image_m, \"http://192.168.1.26:8080/display/bitmap\")\n",
    "r"
   ]
  },
  {
   "cell_type": "code",
   "execution_count": null,
   "id": "e0ee3e77-942e-49ef-8996-9219493e71e1",
   "metadata": {},
   "outputs": [],
   "source": []
  },
  {
   "cell_type": "code",
   "execution_count": null,
   "id": "e97b59fc-f5c7-47a5-8759-0d2103015310",
   "metadata": {},
   "outputs": [],
   "source": []
  }
 ],
 "metadata": {
  "language_info": {
   "name": "python"
  }
 },
 "nbformat": 4,
 "nbformat_minor": 5
}
