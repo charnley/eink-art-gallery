{
 "cells": [
  {
   "cell_type": "code",
   "execution_count": null,
   "id": "a3c121ef-7d0a-4954-ac4f-cb9a36dae0c4",
   "metadata": {},
   "outputs": [],
   "source": [
    "%load_ext autoreload\n",
    "%autoreload 2"
   ]
  },
  {
   "cell_type": "code",
   "execution_count": null,
   "id": "9fa1634d-fbb1-4a3a-9649-2b2fbf5211c4",
   "metadata": {},
   "outputs": [],
   "source": [
    "from pathlib import Path"
   ]
  },
  {
   "cell_type": "code",
   "execution_count": null,
   "id": "43a1f985-c2e0-4b0b-af09-b6bfe9487d37",
   "metadata": {},
   "outputs": [],
   "source": [
    "import PIL"
   ]
  },
  {
   "cell_type": "code",
   "execution_count": null,
   "id": "38f609c5-7187-4033-9b71-e22b2c42d3a1",
   "metadata": {},
   "outputs": [],
   "source": [
    "from PIL import Image"
   ]
  },
  {
   "cell_type": "code",
   "execution_count": null,
   "id": "1c71363f-75fe-4965-8af0-28e962489852",
   "metadata": {},
   "outputs": [],
   "source": [
    "from PIL.Image import Dither"
   ]
  },
  {
   "cell_type": "code",
   "execution_count": null,
   "id": "52dfead7-dc2c-4abb-ad5c-b4c7949cf3d5",
   "metadata": {},
   "outputs": [],
   "source": [
    "img = Image.open(\"../assets/mountain_girl.bmp\")#.convert(\"L\", dither=Image.Dither)"
   ]
  },
  {
   "cell_type": "code",
   "execution_count": null,
   "id": "0d9b16e2-265c-4b19-8e75-0e1ebd73de04",
   "metadata": {},
   "outputs": [],
   "source": [
    "img"
   ]
  },
  {
   "cell_type": "code",
   "execution_count": null,
   "id": "d022b981-60b5-48b4-a2a5-a49cbeffc214",
   "metadata": {},
   "outputs": [],
   "source": []
  },
  {
   "cell_type": "code",
   "execution_count": null,
   "id": "e26c9d44-54c4-4ccf-a493-5ee1e66bd5fe",
   "metadata": {},
   "outputs": [],
   "source": [
    "img.convert(\"P\").quantize(colors=2, method=Image.Quantize.MEDIANCUT, kmeans=2, dither=Dither.FLOYDSTEINBERG)"
   ]
  },
  {
   "cell_type": "code",
   "execution_count": null,
   "id": "83096da8-df1b-4814-94de-b69704ab20cf",
   "metadata": {},
   "outputs": [],
   "source": [
    "img.convert('1')"
   ]
  },
  {
   "cell_type": "code",
   "execution_count": null,
   "id": "cd22beed-e0df-403a-925e-3ce7e55d695e",
   "metadata": {},
   "outputs": [],
   "source": []
  }
 ],
 "metadata": {
  "language_info": {
   "name": "python"
  }
 },
 "nbformat": 4,
 "nbformat_minor": 5
}
