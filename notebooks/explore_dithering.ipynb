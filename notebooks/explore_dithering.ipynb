{
 "cells": [
  {
   "cell_type": "code",
   "execution_count": null,
   "id": "a3c121ef-7d0a-4954-ac4f-cb9a36dae0c4",
   "metadata": {},
   "outputs": [],
   "source": [
    "%load_ext autoreload\n",
    "%autoreload 2"
   ]
  },
  {
   "cell_type": "code",
   "execution_count": null,
   "id": "cd22beed-e0df-403a-925e-3ce7e55d695e",
   "metadata": {},
   "outputs": [],
   "source": [
    "import warnings\n",
    "warnings.filterwarnings('ignore', category=UserWarning)"
   ]
  },
  {
   "cell_type": "code",
   "execution_count": null,
   "id": "e45409b3-f2e2-4b54-8654-17eab41a67e5",
   "metadata": {},
   "outputs": [],
   "source": [
    "from diffusers import AutoPipelineForText2Image\n",
    "import torch"
   ]
  },
  {
   "cell_type": "code",
   "execution_count": null,
   "id": "842ba1ec-7f48-4bbe-90dc-03b4bdeaf1e1",
   "metadata": {},
   "outputs": [],
   "source": [
    "from PIL import Image\n",
    "from PIL.Image import Dither"
   ]
  },
  {
   "cell_type": "code",
   "execution_count": null,
   "id": "9a58b428-2813-4039-a11a-a25d04848f3e",
   "metadata": {},
   "outputs": [],
   "source": [
    "#"
   ]
  },
  {
   "cell_type": "code",
   "execution_count": null,
   "id": "cde6d6ea-9cc3-4cec-83fc-8fa699e62652",
   "metadata": {},
   "outputs": [],
   "source": [
    "pipe = AutoPipelineForText2Image.from_pretrained(\"stabilityai/sdxl-turbo\", torch_dtype=torch.float16, variant=\"fp16\")\n",
    "_ = pipe.to(\"cuda\")"
   ]
  },
  {
   "cell_type": "code",
   "execution_count": null,
   "id": "fbf86ae4-65d9-4d42-8d8e-ac97aeaa14b4",
   "metadata": {},
   "outputs": [],
   "source": [
    "#"
   ]
  },
  {
   "cell_type": "code",
   "execution_count": null,
   "id": "fdcbcdf1-f16e-4a46-ac22-90168263ebf8",
   "metadata": {},
   "outputs": [],
   "source": [
    "prompt = \"mysterious forest, creatures, Thomas Nast\""
   ]
  },
  {
   "cell_type": "code",
   "execution_count": null,
   "id": "7e3d116d-b481-4a90-a4ed-e6ae3633e105",
   "metadata": {},
   "outputs": [],
   "source": [
    "image = pipe(\n",
    "        prompt,\n",
    "        num_inference_steps=1,\n",
    "        guidance_scale=0.0,\n",
    "        num_images_per_prompt=1,\n",
    "        width=960,\n",
    "        height=680\n",
    "    ).images[0]"
   ]
  },
  {
   "cell_type": "code",
   "execution_count": null,
   "id": "e6e85df2-fbc6-4a89-8bf9-82935948467d",
   "metadata": {},
   "outputs": [],
   "source": [
    "image"
   ]
  },
  {
   "cell_type": "markdown",
   "id": "524788e0-69ac-43b0-8961-54926c4ba3cc",
   "metadata": {},
   "source": [
    "## Try dithering and send to "
   ]
  },
  {
   "cell_type": "code",
   "execution_count": null,
   "id": "d68d510b-cbe5-4806-b76d-1bc50554849d",
   "metadata": {},
   "outputs": [],
   "source": [
    "image.convert(\"1\")"
   ]
  },
  {
   "cell_type": "code",
   "execution_count": null,
   "id": "5fa37047-5b51-4883-a9c0-e3a1d686feaf",
   "metadata": {},
   "outputs": [],
   "source": [
    "image_f = image.convert(\"1\", dither=Dither.FLOYDSTEINBERG)\n",
    "image_f"
   ]
  },
  {
   "cell_type": "code",
   "execution_count": null,
   "id": "da498900-3468-4f78-ba25-a62dc1d122ca",
   "metadata": {},
   "outputs": [],
   "source": [
    "def atkinson(image: Image.Image):\n",
    "    img = image.convert('L')\n",
    "    threshold = 128*[0] + 128*[255]\n",
    "    for y in range(img.size[1]):\n",
    "        for x in range(img.size[0]):\n",
    "    \n",
    "            old = img.getpixel((x, y))\n",
    "            new = threshold[old]\n",
    "            err = (old - new) >> 3 # divide by 8\n",
    "                \n",
    "            img.putpixel((x, y), new)\n",
    "            \n",
    "            for nxy in [(x+1, y), (x+2, y), (x-1, y+1), (x, y+1), (x+1, y+1), (x, y+2)]:\n",
    "                try:\n",
    "                    img.putpixel(nxy, img.getpixel(nxy) + err)\n",
    "                except IndexError:\n",
    "                    pass\n",
    "    return img"
   ]
  },
  {
   "cell_type": "code",
   "execution_count": null,
   "id": "65bcfa45-0018-425a-b32a-24e53a995348",
   "metadata": {},
   "outputs": [],
   "source": [
    "image_a = atkinson(image)"
   ]
  },
  {
   "cell_type": "code",
   "execution_count": null,
   "id": "53b419a2-2738-4599-acd4-e70fc7dc0fd1",
   "metadata": {},
   "outputs": [],
   "source": [
    "image_a"
   ]
  },
  {
   "cell_type": "code",
   "execution_count": null,
   "id": "d1daa5b0-82c3-4693-863d-1963ae061892",
   "metadata": {},
   "outputs": [],
   "source": [
    "##"
   ]
  },
  {
   "cell_type": "code",
   "execution_count": null,
   "id": "b3672dd5-275f-4275-a870-14f007d39e0c",
   "metadata": {},
   "outputs": [],
   "source": []
  },
  {
   "cell_type": "code",
   "execution_count": null,
   "id": "6548fbc4-ce42-40c9-bf80-1212e0fff999",
   "metadata": {},
   "outputs": [],
   "source": [
    "# Get dimensions\n",
    "width, height = image.size\n",
    "\n",
    "# Find center\n",
    "center_x = int(width/2)\n",
    "center_y = int(height/2)\n",
    "\n",
    "# Split two images\n",
    "a = image_f.crop((0, 0, center_x, height))\n",
    "b = image_a.crop((center_x, 0, width, height))\n",
    "\n",
    "# Merge into one\n",
    "image_m = image.copy()\n",
    "image_m.paste(a, (0,0))\n",
    "image_m.paste(b, (center_x,0))"
   ]
  },
  {
   "cell_type": "code",
   "execution_count": null,
   "id": "a7408e6b-f69c-4604-9ff9-f385b693e8ec",
   "metadata": {},
   "outputs": [],
   "source": [
    "image_m"
   ]
  },
  {
   "cell_type": "code",
   "execution_count": null,
   "id": "01b150a1-876d-4488-b8f0-8603d5468856",
   "metadata": {},
   "outputs": [],
   "source": [
    "##"
   ]
  },
  {
   "cell_type": "code",
   "execution_count": null,
   "id": "327a82bd-a8d0-469f-96a9-69bb9f0b0819",
   "metadata": {},
   "outputs": [],
   "source": [
    "from art_utils import network_utils"
   ]
  },
  {
   "cell_type": "code",
   "execution_count": null,
   "id": "d3199107-2ec2-4767-9e61-7955617567e6",
   "metadata": {},
   "outputs": [],
   "source": [
    "r = network_utils.send_photo(image_m, \"http://192.168.1.26:8080/display/bitmap\")\n",
    "r"
   ]
  },
  {
   "cell_type": "code",
   "execution_count": null,
   "id": "e0ee3e77-942e-49ef-8996-9219493e71e1",
   "metadata": {},
   "outputs": [],
   "source": []
  },
  {
   "cell_type": "code",
   "execution_count": null,
   "id": "e97b59fc-f5c7-47a5-8759-0d2103015310",
   "metadata": {},
   "outputs": [],
   "source": []
  }
 ],
 "metadata": {
  "language_info": {
   "name": "python"
  }
 },
 "nbformat": 4,
 "nbformat_minor": 5
}
