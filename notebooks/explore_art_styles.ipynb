{
 "cells": [
  {
   "cell_type": "code",
   "execution_count": null,
   "id": "09e4ac78-ba1e-4eed-92ae-f75ffd2a63d5",
   "metadata": {},
   "outputs": [],
   "source": [
    "%load_ext autoreload\n",
    "%autoreload 2"
   ]
  },
  {
   "cell_type": "code",
   "execution_count": null,
   "id": "a5619742-181c-4871-9bb1-aceae26fedd0",
   "metadata": {},
   "outputs": [],
   "source": [
    "import warnings\n",
    "warnings.filterwarnings('ignore', category=UserWarning)"
   ]
  },
  {
   "cell_type": "code",
   "execution_count": null,
   "id": "0d20841e-8963-4cd3-a0fa-0c8cf4fa136b",
   "metadata": {},
   "outputs": [],
   "source": [
    "from functools import cache"
   ]
  },
  {
   "cell_type": "code",
   "execution_count": null,
   "id": "51efe159-73be-461a-b825-4de78ff8191a",
   "metadata": {},
   "outputs": [],
   "source": [
    "import os\n",
    "import textwrap\n",
    "\n",
    "import matplotlib.patheffects as PathEffects\n",
    "import matplotlib.pyplot as plt\n",
    "from matplotlib import patheffects, rcParams\n",
    "from PIL import Image"
   ]
  },
  {
   "cell_type": "code",
   "execution_count": null,
   "id": "9bb21443-5979-449a-8c26-103383cd002e",
   "metadata": {},
   "outputs": [],
   "source": [
    "from diffusers import AutoPipelineForText2Image\n",
    "import torch"
   ]
  },
  {
   "cell_type": "code",
   "execution_count": null,
   "id": "b3cb9bd6-ee45-4d0a-bc56-27969d0400d2",
   "metadata": {},
   "outputs": [],
   "source": [
    "##"
   ]
  },
  {
   "cell_type": "code",
   "execution_count": null,
   "id": "6d314618-3707-4bdf-bd82-3f878e522588",
   "metadata": {},
   "outputs": [],
   "source": [
    "def style_scanner(pipe, prompt, num_images_per_prompt=2):\n",
    "    return pipe(\n",
    "        prompt,\n",
    "        num_inference_steps=1,\n",
    "        guidance_scale=0.0,\n",
    "        num_images_per_prompt=num_images_per_prompt,\n",
    "    ).images"
   ]
  },
  {
   "cell_type": "code",
   "execution_count": null,
   "id": "87a1a3ef-47e9-4341-9304-4d4fd638a6e2",
   "metadata": {},
   "outputs": [],
   "source": [
    "def display_images(\n",
    "    images: list[Image.Image],\n",
    "    num_cols=2,\n",
    "    title=None,\n",
    "    display_as_bitmap=True,\n",
    "):\n",
    "\n",
    "    if not len(images):\n",
    "        raise ValueError(\"No images\")\n",
    "\n",
    "    num_images = len(images)\n",
    "    num_cols = min(num_images, num_cols)\n",
    "    num_rows = int(num_images / num_cols) + (1 if num_images % num_cols != 0 else 0)\n",
    "\n",
    "    figure, axes = plt.subplots(num_rows, num_cols, figsize=(5*num_cols, 5*num_rows))\n",
    "\n",
    "    axes = list(axes.flat)\n",
    "\n",
    "    for i, (ax, image) in enumerate(zip(axes, images)):\n",
    "\n",
    "        if display_as_bitmap:\n",
    "            image = image.convert(\"1\")\n",
    "        \n",
    "        ax.imshow(image)\n",
    "        ax.get_xaxis().set_ticks([])\n",
    "        ax.get_yaxis().set_ticks([])\n",
    "        ax.spines[\"top\"].set_visible(False)\n",
    "        ax.spines[\"right\"].set_visible(False)\n",
    "        ax.spines[\"bottom\"].set_visible(False)\n",
    "        ax.spines[\"left\"].set_visible(False)\n",
    "        ax.set_aspect(\"equal\")\n",
    "\n",
    "    for ax in axes[num_images:]:\n",
    "        ax.set_visible(False)\n",
    "\n",
    "    figure.subplots_adjust(wspace=0, hspace=0)\n",
    "    figure.tight_layout()\n",
    "\n",
    "    if title:\n",
    "        txt = figure.suptitle(title, fontsize=11)\n",
    "        txt.set_path_effects([PathEffects.withStroke(linewidth=5, foreground=\"w\")])"
   ]
  },
  {
   "cell_type": "code",
   "execution_count": null,
   "id": "34fe42f4-658f-42ea-afde-ca01561a8f4e",
   "metadata": {},
   "outputs": [],
   "source": [
    "assert torch.cuda.is_available()"
   ]
  },
  {
   "cell_type": "code",
   "execution_count": null,
   "id": "a938da79-19db-4118-b046-bbd81adb5b34",
   "metadata": {},
   "outputs": [],
   "source": [
    "##"
   ]
  },
  {
   "cell_type": "code",
   "execution_count": null,
   "id": "31b28ff8-3aa1-4c54-8250-c63b9b5a401f",
   "metadata": {},
   "outputs": [],
   "source": [
    "pipe = AutoPipelineForText2Image.from_pretrained(\"stabilityai/sdxl-turbo\", torch_dtype=torch.float16, variant=\"fp16\")\n",
    "_ = pipe.to(\"cuda\")"
   ]
  },
  {
   "cell_type": "code",
   "execution_count": null,
   "id": "7733d762-742d-4043-9af6-1ba6dbf40da8",
   "metadata": {},
   "outputs": [],
   "source": [
    "_ = pipe.set_progress_bar_config(disable=True) # the pipeline is not the bottleneck here"
   ]
  },
  {
   "cell_type": "markdown",
   "id": "8efb7798-4336-4e8d-b8fc-83ace0c6951b",
   "metadata": {},
   "source": [
    "# Prompts exploration"
   ]
  },
  {
   "cell_type": "code",
   "execution_count": null,
   "id": "1070c3e2-73d8-451c-ac8f-72c56ee17a93",
   "metadata": {},
   "outputs": [],
   "source": [
    "@cache\n",
    "def predict(prompt):\n",
    "    images = style_scanner(pipe, prompt)\n",
    "    return images"
   ]
  },
  {
   "cell_type": "code",
   "execution_count": null,
   "id": "db95b491-704a-47b9-ae38-5aefaaf0268d",
   "metadata": {},
   "outputs": [],
   "source": [
    "def explore(prompt):\n",
    "    images = predict(prompt)\n",
    "    display_images(images, title=prompt)"
   ]
  },
  {
   "cell_type": "code",
   "execution_count": null,
   "id": "66d035db-3017-4137-ac2a-4fb9dec0a038",
   "metadata": {},
   "outputs": [],
   "source": [
    "##"
   ]
  },
  {
   "cell_type": "code",
   "execution_count": null,
   "id": "cec5326f-d53b-4db4-b211-40116d66465e",
   "metadata": {},
   "outputs": [],
   "source": [
    "explore(\"bromoil print of profile of an inner goddess in warrior outfit in their power, white paper\")\n",
    "explore(\"sketch of profile of an inner goddess in warrior outfit in their power, no background\")"
   ]
  },
  {
   "cell_type": "code",
   "execution_count": null,
   "id": "a7449679-f6fd-443b-8047-691e25b0544c",
   "metadata": {},
   "outputs": [],
   "source": [
    "explore(\"Space Explorer, Infinite Cosmos, Astronaut, Stars, Isolation, parametric drawing\")"
   ]
  },
  {
   "cell_type": "markdown",
   "id": "a268a543-4aa3-4567-81e6-cb1924794dc0",
   "metadata": {},
   "source": [
    "# Scan styles and subjects"
   ]
  },
  {
   "cell_type": "code",
   "execution_count": null,
   "id": "dcb015dd-ab7b-476d-af32-359e7e3e1bc0",
   "metadata": {},
   "outputs": [],
   "source": [
    "styles = \"\"\"\n",
    " - Assembly drawing\n",
    " - Bromoil print\n",
    " - Brush pen drawing\n",
    " - Chalk drawing\n",
    " - Charcoal drawing\n",
    " - Chiaroscuro\n",
    " - Circut diagram\n",
    " - Coloring book page\n",
    " - Coloring-in sheet\n",
    " - Conte drawing\n",
    " - Dry brush drawing\n",
    " - Elevation drawing\n",
    " - Graphite drawing\n",
    " - Halftone print\n",
    " - Ink drawing\n",
    " - Intaglio\n",
    " - One line art\n",
    " - Parametric Drawing\n",
    " - Pen drawing\n",
    " - Perspective drawing\n",
    " - Schematics\n",
    " - Silhouette\n",
    " - Stippling\n",
    " - Sumi-e drawing\n",
    " - Wireframe\n",
    " - Wood engraving\n",
    " - patent drawing\n",
    " - pencil drawing\n",
    "\"\"\".replace(\" - \",\"\").split(\"\\n\")\n",
    "styles = [x for x in styles if x]"
   ]
  },
  {
   "cell_type": "code",
   "execution_count": null,
   "id": "8384339a-1be6-47f6-9c8e-53bfd3bbf090",
   "metadata": {},
   "outputs": [],
   "source": [
    "artists = \"\"\"\n",
    " - Alfred Kubin\n",
    " - Aline Kominsky-Crumb\n",
    " - Andrew Read\n",
    " - André Franquin\n",
    " - Ann Telnaes\n",
    " - B. Kliban\n",
    " - Ben Heine\n",
    " - Charles Samuel Addams\n",
    " - Christian Coigny\n",
    " - Christophe Staelens\n",
    " - Christopher Shy\n",
    " - Dave Sim\n",
    " - Dick Giordano\n",
    " - Fu Baoshi\n",
    " - Gerd Arntz\n",
    " - Hans Bellmer\n",
    " - Henri Matisse\n",
    " - John Leech\n",
    " - Jon Carling\n",
    " - Joost Swarte\n",
    " - Nathan Wirth\n",
    " - Shel Silverstein\n",
    " - Shigeo Fukuda\n",
    " - Theodor Kittelsen\n",
    " - Thomas Nast\n",
    " - Vince Low\n",
    "\"\"\".replace(\" - \",\"\").split(\"\\n\")\n",
    "artists = [x for x in artists if x]"
   ]
  },
  {
   "cell_type": "code",
   "execution_count": null,
   "id": "1d7cdb6d-f0a3-470f-9fde-159823429daa",
   "metadata": {},
   "outputs": [],
   "source": [
    "prompts = \"\"\"\n",
    "A lighthouse standing tall against crashing waves\n",
    "A friendly monster with big, round eyes\n",
    "\"\"\".replace(\" - \",\"\").split(\"\\n\")\n",
    "prompts = [x for x in prompts if x] + [\"\"]"
   ]
  },
  {
   "cell_type": "code",
   "execution_count": null,
   "id": "04865580-de11-4ed2-8ec5-449556e7a9f8",
   "metadata": {},
   "outputs": [],
   "source": [
    "# from itertools import product\n",
    "from tqdm.contrib.itertools import product"
   ]
  },
  {
   "cell_type": "code",
   "execution_count": null,
   "id": "522bc626-ec65-4e91-bbc1-8c56d1329443",
   "metadata": {},
   "outputs": [],
   "source": [
    "for style, prompt in product(styles, prompts):\n",
    "    explore(style + \", \" + prompt)"
   ]
  },
  {
   "cell_type": "code",
   "execution_count": null,
   "id": "91073f10-1b96-4a67-a350-256f2cba4505",
   "metadata": {},
   "outputs": [],
   "source": [
    "for artist, prompt in product(artists, prompts):\n",
    "    explore(artist + \", \" + prompt)"
   ]
  },
  {
   "cell_type": "code",
   "execution_count": null,
   "id": "fc5b2a30-9d37-46ab-b4ce-e5a2e492dff6",
   "metadata": {},
   "outputs": [],
   "source": []
  }
 ],
 "metadata": {
  "language_info": {
   "name": "python"
  }
 },
 "nbformat": 4,
 "nbformat_minor": 5
}
