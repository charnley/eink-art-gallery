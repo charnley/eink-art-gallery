{
 "cells": [
  {
   "cell_type": "code",
   "execution_count": null,
   "id": "8760f66d-3d9b-424b-a694-5cfb2e6c8c17",
   "metadata": {},
   "outputs": [],
   "source": [
    "%load_ext autoreload\n",
    "%autoreload 2"
   ]
  },
  {
   "cell_type": "markdown",
   "id": "e2122006-f36b-4735-b59a-402bc5fcc0fc",
   "metadata": {},
   "source": [
    "# Try to generator some pictures using Hugging Face diffusers"
   ]
  },
  {
   "cell_type": "code",
   "execution_count": null,
   "id": "cebccc31-fa35-4451-b29e-4d66bdac238b",
   "metadata": {},
   "outputs": [],
   "source": [
    "import picture_generator"
   ]
  },
  {
   "cell_type": "code",
   "execution_count": null,
   "id": "0596720b-5e62-441f-a751-21c8382d5ec3",
   "metadata": {},
   "outputs": [],
   "source": [
    "picture_generator.__version__"
   ]
  },
  {
   "cell_type": "code",
   "execution_count": null,
   "id": "b555660a-b40b-42f8-a0ed-766b8e4bf550",
   "metadata": {},
   "outputs": [],
   "source": [
    "from diffusers import DDPMPipeline"
   ]
  },
  {
   "cell_type": "code",
   "execution_count": null,
   "id": "72f5f00e-69b5-46ce-81fc-ccb010c46f80",
   "metadata": {},
   "outputs": [],
   "source": [
    "image_pipe = DDPMPipeline.from_pretrained(\"google/ddpm-celebahq-256\")\n",
    "# image_pipe.to(\"cuda\")"
   ]
  },
  {
   "cell_type": "code",
   "execution_count": null,
   "id": "57401201-2ff1-4b43-a273-e7ce27ac9cad",
   "metadata": {},
   "outputs": [],
   "source": [
    "images = image_pipe().images"
   ]
  },
  {
   "cell_type": "code",
   "execution_count": null,
   "id": "bb995b83-8b7a-4f00-a01f-f74b62399733",
   "metadata": {},
   "outputs": [],
   "source": [
    "images[0]"
   ]
  },
  {
   "cell_type": "code",
   "execution_count": null,
   "id": "aa45cab5-96ef-493e-8091-c338b7ccf7d7",
   "metadata": {},
   "outputs": [],
   "source": []
  }
 ],
 "metadata": {
  "language_info": {
   "name": "python"
  }
 },
 "nbformat": 4,
 "nbformat_minor": 5
}
